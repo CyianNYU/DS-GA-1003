{
 "cells": [
  {
   "cell_type": "code",
   "execution_count": 1,
   "metadata": {
    "collapsed": true
   },
   "outputs": [],
   "source": [
    "import pandas as pd\n",
    "import gzip\n",
    "import json\n",
    "%matplotlib inline\n",
    "import numpy as np\n",
    "import pandas as pd\n",
    "import matplotlib.pyplot as plt\n",
    "from pandas import DataFrame \n",
    "import nltk\n",
    "from sklearn.model_selection import train_test_split\n",
    "from sklearn.metrics.pairwise import pairwise_distances,cosine_similarity\n",
    "from sklearn.metrics import mean_squared_error\n",
    "import scipy.sparse as sp\n",
    "from scipy.sparse.linalg import svds\n",
    "from scipy.sparse import csr_matrix\n",
    "import torch\n",
    "\n",
    "from spotlight.interactions import Interactions\n",
    "from spotlight.sequence.implicit import ImplicitSequenceModel\n",
    "from spotlight.sequence.representations import CNNNet\n",
    "from spotlight.evaluation import sequence_mrr_score\n",
    "\n",
    "import torch\n",
    "from spotlight.factorization.explicit import ExplicitFactorizationModel\n",
    "from spotlight.cross_validation import random_train_test_split\n",
    "from spotlight.interactions import Interactions\n",
    "from spotlight.sequence.implicit import ImplicitSequenceModel\n",
    "from spotlight.sequence.representations import CNNNet\n",
    "from spotlight.evaluation import sequence_mrr_score\n",
    "from spotlight.losses import regression_loss\n",
    "\n"
   ]
  },
  {
   "cell_type": "code",
   "execution_count": 2,
   "metadata": {
    "collapsed": true
   },
   "outputs": [],
   "source": [
    "amazon = pd.read_csv(\"feature_matrix_time.csv\")\n",
    "amazon.drop('Unnamed: 0',axis = 1, inplace =True)\n",
    "label_u,level_u = pd.factorize(amazon['reviewerID'])\n",
    "amazon['reviewerID'] = label_u+1\n",
    "label_i,level_i = pd.factorize(amazon['asin'])\n",
    "amazon['asin'] = label_i+1"
   ]
  },
  {
   "cell_type": "code",
   "execution_count": 3,
   "metadata": {
    "collapsed": true
   },
   "outputs": [],
   "source": [
    "amazon_interaction = Interactions(np.array(amazon['reviewerID']), \n",
    "                                  np.array(amazon['asin']),\n",
    "                                  ratings = np.array(amazon['overall']), \n",
    "                                  timestamps=np.array(amazon['timestamps']))\n",
    "train, test = random_train_test_split(amazon_interaction, random_state=np.random.RandomState(42))\n",
    "train_seq = train.to_sequence()\n",
    "test_seq = test.to_sequence()\n"
   ]
  },
  {
   "cell_type": "code",
   "execution_count": null,
   "metadata": {
    "collapsed": true
   },
   "outputs": [],
   "source": [
    "net = CNNNet(train_seq.num_items,\n",
    "             embedding_dim=64,\n",
    "             kernel_width=7,\n",
    "             dilation=[1, 1, 1, 1, 1, 1, 1, 1, 1],\n",
    "             num_layers=9,\n",
    "             nonlinearity='tanh',\n",
    "             residual_connections=True)\n",
    "model = ImplicitSequenceModel(loss='hinge',\n",
    "                              representation=net,\n",
    "                              batch_size=16,\n",
    "                              learning_rate=0.1,\n",
    "                              l2=1e-3,\n",
    "                              n_iter=10,\n",
    "                              use_cuda=torch.cuda.is_available()\n",
    "                             )\n",
    "\n"
   ]
  }
 ],
 "metadata": {
  "kernelspec": {
   "display_name": "Python 3",
   "language": "python",
   "name": "python3"
  },
  "language_info": {
   "codemirror_mode": {
    "name": "ipython",
    "version": 3
   },
   "file_extension": ".py",
   "mimetype": "text/x-python",
   "name": "python",
   "nbconvert_exporter": "python",
   "pygments_lexer": "ipython3",
   "version": "3.6.2"
  }
 },
 "nbformat": 4,
 "nbformat_minor": 2
}
