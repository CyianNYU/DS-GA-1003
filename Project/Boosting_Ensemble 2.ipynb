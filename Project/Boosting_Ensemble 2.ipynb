{
 "cells": [
  {
   "cell_type": "code",
   "execution_count": 1,
   "metadata": {
    "collapsed": true
   },
   "outputs": [],
   "source": [
    "import pandas as pd\n",
    "import gzip\n",
    "import json\n",
    "%matplotlib inline\n",
    "import numpy as np\n",
    "import pandas as pd\n",
    "import matplotlib.pyplot as plt\n",
    "from pandas import DataFrame \n",
    "import nltk\n",
    "from sklearn.model_selection import train_test_split\n",
    "from sklearn.metrics.pairwise import pairwise_distances,cosine_similarity\n",
    "from sklearn.metrics import mean_squared_error\n",
    "import scipy.sparse as sp\n",
    "from scipy.sparse.linalg import svds\n",
    "from scipy.sparse import csr_matrix"
   ]
  },
  {
   "cell_type": "code",
   "execution_count": 2,
   "metadata": {
    "collapsed": true
   },
   "outputs": [],
   "source": [
    "import pandas as pd\n",
    "import gzip\n",
    "\n",
    "def parse(path):\n",
    "    g = gzip.open(path, 'rb')\n",
    "    for l in g:\n",
    "        yield eval(l)\n",
    "\n",
    "def getDF(path):\n",
    "    i = 0\n",
    "    df = {}\n",
    "    for d in parse(path):\n",
    "        df[i] = d\n",
    "        i += 1\n",
    "    return pd.DataFrame.from_dict(df, orient='index')\n",
    "\n",
    "df = getDF('reviews_Beauty_5.json.gz')\n",
    "df2 = getDF('meta_Beauty.json.gz')"
   ]
  },
  {
   "cell_type": "code",
   "execution_count": 3,
   "metadata": {
    "collapsed": true
   },
   "outputs": [],
   "source": [
    "text_mat = pd.read_csv('stemmed_text.csv')\n"
   ]
  },
  {
   "cell_type": "code",
   "execution_count": 4,
   "metadata": {
    "collapsed": true
   },
   "outputs": [],
   "source": [
    "df = df.drop([\"reviewerName\", \"summary\", \"reviewTime\"], axis=1, inplace=False)\n",
    "df2 = df2.drop([\"imUrl\", \"related\", \"brand\"], axis=1, inplace = False)\n",
    "new_df = df.merge(df2, how='inner', on='asin')\n",
    "new_df['helpful_num'] = df['helpful'].apply(lambda x: x[0])\n",
    "new_df['helpful_denom'] = df['helpful'].apply(lambda x: x[1])\n",
    "new_df1 = new_df.drop(\"helpful\", axis = 1)\n",
    "new_df1.head()\n",
    "count = new_df1.groupby(\"asin\", as_index=False).count()\n",
    "\n",
    "new_df2 = pd.merge(new_df1, count, how='right', on=['asin'])\n",
    "new_df2.columns\n",
    "new_df2[\"numberReview\"] = new_df2[\"reviewerID_y\"]\n",
    "#Filter out products with review numbers >= 50\n",
    "dfCount = new_df2[new_df2.numberReview >= 50]"
   ]
  },
  {
   "cell_type": "code",
   "execution_count": 5,
   "metadata": {
    "collapsed": true
   },
   "outputs": [],
   "source": [
    "df_temp = dfCount[['reviewerID_x','asin','overall_x','salesRank_x','categories_x','price_x']]\n",
    "df_temp.columns = ['reviewerID','asin','overall','salesRank','categories','price']"
   ]
  },
  {
   "cell_type": "code",
   "execution_count": 6,
   "metadata": {
    "collapsed": true
   },
   "outputs": [],
   "source": [
    "df_temp = df_temp[pd.notnull(df_temp['salesRank'])]\n",
    "price_avg = np.mean(df_temp['price'])\n",
    "df_temp['price'] = df_temp['price'].fillna(price_avg)"
   ]
  },
  {
   "cell_type": "code",
   "execution_count": 7,
   "metadata": {
    "collapsed": true
   },
   "outputs": [],
   "source": [
    "df_temp = df_temp.merge(text_mat)\n",
    "df_temp.drop(['Unnamed: 0'],axis = 1, inplace = True)\n"
   ]
  },
  {
   "cell_type": "code",
   "execution_count": 8,
   "metadata": {},
   "outputs": [
    {
     "data": {
      "text/html": [
       "<div>\n",
       "<style>\n",
       "    .dataframe thead tr:only-child th {\n",
       "        text-align: right;\n",
       "    }\n",
       "\n",
       "    .dataframe thead th {\n",
       "        text-align: left;\n",
       "    }\n",
       "\n",
       "    .dataframe tbody tr th {\n",
       "        vertical-align: top;\n",
       "    }\n",
       "</style>\n",
       "<table border=\"1\" class=\"dataframe\">\n",
       "  <thead>\n",
       "    <tr style=\"text-align: right;\">\n",
       "      <th></th>\n",
       "      <th>reviewerID</th>\n",
       "      <th>asin</th>\n",
       "      <th>overall</th>\n",
       "      <th>salesRank</th>\n",
       "      <th>categories</th>\n",
       "      <th>price</th>\n",
       "      <th>love thi</th>\n",
       "      <th>thi product</th>\n",
       "      <th>highli recommend</th>\n",
       "      <th>receiv thi</th>\n",
       "      <th>...</th>\n",
       "      <th>time use</th>\n",
       "      <th>don use</th>\n",
       "      <th>use thi</th>\n",
       "      <th>thi stuff</th>\n",
       "      <th>thi item</th>\n",
       "      <th>use thi product</th>\n",
       "      <th>like use</th>\n",
       "      <th>long hair</th>\n",
       "      <th>don think</th>\n",
       "      <th>use time</th>\n",
       "    </tr>\n",
       "  </thead>\n",
       "  <tbody>\n",
       "    <tr>\n",
       "      <th>0</th>\n",
       "      <td>AEEJGDRRGLBB1</td>\n",
       "      <td>B000050B6U</td>\n",
       "      <td>2.0</td>\n",
       "      <td>{'Beauty': 3225}</td>\n",
       "      <td>[[Beauty, Hair Care, Styling Tools, Irons, Cur...</td>\n",
       "      <td>13.95</td>\n",
       "      <td>3</td>\n",
       "      <td>4</td>\n",
       "      <td>2</td>\n",
       "      <td>0</td>\n",
       "      <td>...</td>\n",
       "      <td>1</td>\n",
       "      <td>0</td>\n",
       "      <td>5</td>\n",
       "      <td>0</td>\n",
       "      <td>1</td>\n",
       "      <td>0</td>\n",
       "      <td>0</td>\n",
       "      <td>4</td>\n",
       "      <td>0</td>\n",
       "      <td>0</td>\n",
       "    </tr>\n",
       "    <tr>\n",
       "      <th>1</th>\n",
       "      <td>A2K6LI89NAD2J2</td>\n",
       "      <td>B000050B6U</td>\n",
       "      <td>5.0</td>\n",
       "      <td>{'Beauty': 3225}</td>\n",
       "      <td>[[Beauty, Hair Care, Styling Tools, Irons, Cur...</td>\n",
       "      <td>13.95</td>\n",
       "      <td>3</td>\n",
       "      <td>4</td>\n",
       "      <td>2</td>\n",
       "      <td>0</td>\n",
       "      <td>...</td>\n",
       "      <td>1</td>\n",
       "      <td>0</td>\n",
       "      <td>5</td>\n",
       "      <td>0</td>\n",
       "      <td>1</td>\n",
       "      <td>0</td>\n",
       "      <td>0</td>\n",
       "      <td>4</td>\n",
       "      <td>0</td>\n",
       "      <td>0</td>\n",
       "    </tr>\n",
       "    <tr>\n",
       "      <th>2</th>\n",
       "      <td>A1P9UMP1XSE6MI</td>\n",
       "      <td>B000050B6U</td>\n",
       "      <td>5.0</td>\n",
       "      <td>{'Beauty': 3225}</td>\n",
       "      <td>[[Beauty, Hair Care, Styling Tools, Irons, Cur...</td>\n",
       "      <td>13.95</td>\n",
       "      <td>3</td>\n",
       "      <td>4</td>\n",
       "      <td>2</td>\n",
       "      <td>0</td>\n",
       "      <td>...</td>\n",
       "      <td>1</td>\n",
       "      <td>0</td>\n",
       "      <td>5</td>\n",
       "      <td>0</td>\n",
       "      <td>1</td>\n",
       "      <td>0</td>\n",
       "      <td>0</td>\n",
       "      <td>4</td>\n",
       "      <td>0</td>\n",
       "      <td>0</td>\n",
       "    </tr>\n",
       "    <tr>\n",
       "      <th>3</th>\n",
       "      <td>A4WX0FZ1MMAUH</td>\n",
       "      <td>B000050B6U</td>\n",
       "      <td>5.0</td>\n",
       "      <td>{'Beauty': 3225}</td>\n",
       "      <td>[[Beauty, Hair Care, Styling Tools, Irons, Cur...</td>\n",
       "      <td>13.95</td>\n",
       "      <td>3</td>\n",
       "      <td>4</td>\n",
       "      <td>2</td>\n",
       "      <td>0</td>\n",
       "      <td>...</td>\n",
       "      <td>1</td>\n",
       "      <td>0</td>\n",
       "      <td>5</td>\n",
       "      <td>0</td>\n",
       "      <td>1</td>\n",
       "      <td>0</td>\n",
       "      <td>0</td>\n",
       "      <td>4</td>\n",
       "      <td>0</td>\n",
       "      <td>0</td>\n",
       "    </tr>\n",
       "    <tr>\n",
       "      <th>4</th>\n",
       "      <td>AHP55PFHJL0H8</td>\n",
       "      <td>B000050B6U</td>\n",
       "      <td>2.0</td>\n",
       "      <td>{'Beauty': 3225}</td>\n",
       "      <td>[[Beauty, Hair Care, Styling Tools, Irons, Cur...</td>\n",
       "      <td>13.95</td>\n",
       "      <td>3</td>\n",
       "      <td>4</td>\n",
       "      <td>2</td>\n",
       "      <td>0</td>\n",
       "      <td>...</td>\n",
       "      <td>1</td>\n",
       "      <td>0</td>\n",
       "      <td>5</td>\n",
       "      <td>0</td>\n",
       "      <td>1</td>\n",
       "      <td>0</td>\n",
       "      <td>0</td>\n",
       "      <td>4</td>\n",
       "      <td>0</td>\n",
       "      <td>0</td>\n",
       "    </tr>\n",
       "  </tbody>\n",
       "</table>\n",
       "<p>5 rows × 28 columns</p>\n",
       "</div>"
      ],
      "text/plain": [
       "       reviewerID        asin  overall         salesRank  \\\n",
       "0   AEEJGDRRGLBB1  B000050B6U      2.0  {'Beauty': 3225}   \n",
       "1  A2K6LI89NAD2J2  B000050B6U      5.0  {'Beauty': 3225}   \n",
       "2  A1P9UMP1XSE6MI  B000050B6U      5.0  {'Beauty': 3225}   \n",
       "3   A4WX0FZ1MMAUH  B000050B6U      5.0  {'Beauty': 3225}   \n",
       "4   AHP55PFHJL0H8  B000050B6U      2.0  {'Beauty': 3225}   \n",
       "\n",
       "                                          categories  price  love thi  \\\n",
       "0  [[Beauty, Hair Care, Styling Tools, Irons, Cur...  13.95         3   \n",
       "1  [[Beauty, Hair Care, Styling Tools, Irons, Cur...  13.95         3   \n",
       "2  [[Beauty, Hair Care, Styling Tools, Irons, Cur...  13.95         3   \n",
       "3  [[Beauty, Hair Care, Styling Tools, Irons, Cur...  13.95         3   \n",
       "4  [[Beauty, Hair Care, Styling Tools, Irons, Cur...  13.95         3   \n",
       "\n",
       "   thi product  highli recommend  receiv thi    ...     time use  don use  \\\n",
       "0            4                 2           0    ...            1        0   \n",
       "1            4                 2           0    ...            1        0   \n",
       "2            4                 2           0    ...            1        0   \n",
       "3            4                 2           0    ...            1        0   \n",
       "4            4                 2           0    ...            1        0   \n",
       "\n",
       "   use thi  thi stuff  thi item  use thi product  like use  long hair  \\\n",
       "0        5          0         1                0         0          4   \n",
       "1        5          0         1                0         0          4   \n",
       "2        5          0         1                0         0          4   \n",
       "3        5          0         1                0         0          4   \n",
       "4        5          0         1                0         0          4   \n",
       "\n",
       "   don think  use time  \n",
       "0          0         0  \n",
       "1          0         0  \n",
       "2          0         0  \n",
       "3          0         0  \n",
       "4          0         0  \n",
       "\n",
       "[5 rows x 28 columns]"
      ]
     },
     "execution_count": 8,
     "metadata": {},
     "output_type": "execute_result"
    }
   ],
   "source": [
    "df_temp.head()"
   ]
  },
  {
   "cell_type": "code",
   "execution_count": 9,
   "metadata": {
    "collapsed": true
   },
   "outputs": [],
   "source": [
    "sc = []\n",
    "for i in range(len(list(df_temp['salesRank']))):\n",
    "    v_out = list(df_temp['salesRank'])[i]\n",
    "    sc.append(list(v_out.values())[0])"
   ]
  },
  {
   "cell_type": "code",
   "execution_count": 10,
   "metadata": {},
   "outputs": [
    {
     "data": {
      "text/html": [
       "<div>\n",
       "<style>\n",
       "    .dataframe thead tr:only-child th {\n",
       "        text-align: right;\n",
       "    }\n",
       "\n",
       "    .dataframe thead th {\n",
       "        text-align: left;\n",
       "    }\n",
       "\n",
       "    .dataframe tbody tr th {\n",
       "        vertical-align: top;\n",
       "    }\n",
       "</style>\n",
       "<table border=\"1\" class=\"dataframe\">\n",
       "  <thead>\n",
       "    <tr style=\"text-align: right;\">\n",
       "      <th></th>\n",
       "      <th>reviewerID</th>\n",
       "      <th>asin</th>\n",
       "      <th>overall</th>\n",
       "      <th>price</th>\n",
       "      <th>love thi</th>\n",
       "      <th>thi product</th>\n",
       "      <th>highli recommend</th>\n",
       "      <th>receiv thi</th>\n",
       "      <th>thi just</th>\n",
       "      <th>great price</th>\n",
       "      <th>...</th>\n",
       "      <th>thi stuff</th>\n",
       "      <th>thi item</th>\n",
       "      <th>use thi product</th>\n",
       "      <th>like use</th>\n",
       "      <th>long hair</th>\n",
       "      <th>don think</th>\n",
       "      <th>use time</th>\n",
       "      <th>rank</th>\n",
       "      <th>category1</th>\n",
       "      <th>category2</th>\n",
       "    </tr>\n",
       "  </thead>\n",
       "  <tbody>\n",
       "    <tr>\n",
       "      <th>0</th>\n",
       "      <td>AEEJGDRRGLBB1</td>\n",
       "      <td>B000050B6U</td>\n",
       "      <td>2.0</td>\n",
       "      <td>13.95</td>\n",
       "      <td>3</td>\n",
       "      <td>4</td>\n",
       "      <td>2</td>\n",
       "      <td>0</td>\n",
       "      <td>0</td>\n",
       "      <td>2</td>\n",
       "      <td>...</td>\n",
       "      <td>0</td>\n",
       "      <td>1</td>\n",
       "      <td>0</td>\n",
       "      <td>0</td>\n",
       "      <td>4</td>\n",
       "      <td>0</td>\n",
       "      <td>0</td>\n",
       "      <td>3225</td>\n",
       "      <td>0</td>\n",
       "      <td>0</td>\n",
       "    </tr>\n",
       "    <tr>\n",
       "      <th>1</th>\n",
       "      <td>A2K6LI89NAD2J2</td>\n",
       "      <td>B000050B6U</td>\n",
       "      <td>5.0</td>\n",
       "      <td>13.95</td>\n",
       "      <td>3</td>\n",
       "      <td>4</td>\n",
       "      <td>2</td>\n",
       "      <td>0</td>\n",
       "      <td>0</td>\n",
       "      <td>2</td>\n",
       "      <td>...</td>\n",
       "      <td>0</td>\n",
       "      <td>1</td>\n",
       "      <td>0</td>\n",
       "      <td>0</td>\n",
       "      <td>4</td>\n",
       "      <td>0</td>\n",
       "      <td>0</td>\n",
       "      <td>3225</td>\n",
       "      <td>0</td>\n",
       "      <td>0</td>\n",
       "    </tr>\n",
       "    <tr>\n",
       "      <th>2</th>\n",
       "      <td>A1P9UMP1XSE6MI</td>\n",
       "      <td>B000050B6U</td>\n",
       "      <td>5.0</td>\n",
       "      <td>13.95</td>\n",
       "      <td>3</td>\n",
       "      <td>4</td>\n",
       "      <td>2</td>\n",
       "      <td>0</td>\n",
       "      <td>0</td>\n",
       "      <td>2</td>\n",
       "      <td>...</td>\n",
       "      <td>0</td>\n",
       "      <td>1</td>\n",
       "      <td>0</td>\n",
       "      <td>0</td>\n",
       "      <td>4</td>\n",
       "      <td>0</td>\n",
       "      <td>0</td>\n",
       "      <td>3225</td>\n",
       "      <td>0</td>\n",
       "      <td>0</td>\n",
       "    </tr>\n",
       "    <tr>\n",
       "      <th>3</th>\n",
       "      <td>A4WX0FZ1MMAUH</td>\n",
       "      <td>B000050B6U</td>\n",
       "      <td>5.0</td>\n",
       "      <td>13.95</td>\n",
       "      <td>3</td>\n",
       "      <td>4</td>\n",
       "      <td>2</td>\n",
       "      <td>0</td>\n",
       "      <td>0</td>\n",
       "      <td>2</td>\n",
       "      <td>...</td>\n",
       "      <td>0</td>\n",
       "      <td>1</td>\n",
       "      <td>0</td>\n",
       "      <td>0</td>\n",
       "      <td>4</td>\n",
       "      <td>0</td>\n",
       "      <td>0</td>\n",
       "      <td>3225</td>\n",
       "      <td>0</td>\n",
       "      <td>0</td>\n",
       "    </tr>\n",
       "    <tr>\n",
       "      <th>4</th>\n",
       "      <td>AHP55PFHJL0H8</td>\n",
       "      <td>B000050B6U</td>\n",
       "      <td>2.0</td>\n",
       "      <td>13.95</td>\n",
       "      <td>3</td>\n",
       "      <td>4</td>\n",
       "      <td>2</td>\n",
       "      <td>0</td>\n",
       "      <td>0</td>\n",
       "      <td>2</td>\n",
       "      <td>...</td>\n",
       "      <td>0</td>\n",
       "      <td>1</td>\n",
       "      <td>0</td>\n",
       "      <td>0</td>\n",
       "      <td>4</td>\n",
       "      <td>0</td>\n",
       "      <td>0</td>\n",
       "      <td>3225</td>\n",
       "      <td>0</td>\n",
       "      <td>0</td>\n",
       "    </tr>\n",
       "  </tbody>\n",
       "</table>\n",
       "<p>5 rows × 29 columns</p>\n",
       "</div>"
      ],
      "text/plain": [
       "       reviewerID        asin  overall  price  love thi  thi product  \\\n",
       "0   AEEJGDRRGLBB1  B000050B6U      2.0  13.95         3            4   \n",
       "1  A2K6LI89NAD2J2  B000050B6U      5.0  13.95         3            4   \n",
       "2  A1P9UMP1XSE6MI  B000050B6U      5.0  13.95         3            4   \n",
       "3   A4WX0FZ1MMAUH  B000050B6U      5.0  13.95         3            4   \n",
       "4   AHP55PFHJL0H8  B000050B6U      2.0  13.95         3            4   \n",
       "\n",
       "   highli recommend  receiv thi  thi just  great price    ...      thi stuff  \\\n",
       "0                 2           0         0            2    ...              0   \n",
       "1                 2           0         0            2    ...              0   \n",
       "2                 2           0         0            2    ...              0   \n",
       "3                 2           0         0            2    ...              0   \n",
       "4                 2           0         0            2    ...              0   \n",
       "\n",
       "   thi item  use thi product  like use  long hair  don think  use time  rank  \\\n",
       "0         1                0         0          4          0         0  3225   \n",
       "1         1                0         0          4          0         0  3225   \n",
       "2         1                0         0          4          0         0  3225   \n",
       "3         1                0         0          4          0         0  3225   \n",
       "4         1                0         0          4          0         0  3225   \n",
       "\n",
       "   category1  category2  \n",
       "0          0          0  \n",
       "1          0          0  \n",
       "2          0          0  \n",
       "3          0          0  \n",
       "4          0          0  \n",
       "\n",
       "[5 rows x 29 columns]"
      ]
     },
     "execution_count": 10,
     "metadata": {},
     "output_type": "execute_result"
    }
   ],
   "source": [
    "df_temp['rank'] = sc\n",
    "df_temp1 = df_temp.drop('salesRank', axis=1, inplace=False)\n",
    "df_temp['categories'] = df_temp['categories'].apply(lambda x: x[0])\n",
    "df_temp['category1'] = df_temp['categories'].apply(lambda x: x[3] if len(x) > 3 else x[0])\n",
    "df_temp['category2'] = df_temp['categories'].apply(lambda x: x[len(x)-1])\n",
    "df_temp.drop(['categories'],axis = 1,inplace =True)\n",
    "labels_cat1, levels_cat1 = pd.factorize(df_temp['category1'])\n",
    "labels_cat2, levels_cat2 = pd.factorize(df_temp['category2'])\n",
    "\n",
    "df_temp['category1'] = labels_cat1\n",
    "df_temp['category2'] = labels_cat2\n",
    "\n",
    "df_temp.drop('salesRank',axis = 1,inplace = True)\n",
    "df_temp.head()"
   ]
  },
  {
   "cell_type": "code",
   "execution_count": 477,
   "metadata": {
    "collapsed": true
   },
   "outputs": [],
   "source": [
    "df_temp.to_csv(\"feature_matrix.csv\")"
   ]
  },
  {
   "cell_type": "code",
   "execution_count": 11,
   "metadata": {},
   "outputs": [
    {
     "data": {
      "text/html": [
       "<div>\n",
       "<style>\n",
       "    .dataframe thead tr:only-child th {\n",
       "        text-align: right;\n",
       "    }\n",
       "\n",
       "    .dataframe thead th {\n",
       "        text-align: left;\n",
       "    }\n",
       "\n",
       "    .dataframe tbody tr th {\n",
       "        vertical-align: top;\n",
       "    }\n",
       "</style>\n",
       "<table border=\"1\" class=\"dataframe\">\n",
       "  <thead>\n",
       "    <tr style=\"text-align: right;\">\n",
       "      <th></th>\n",
       "      <th>reviewerID</th>\n",
       "      <th>asin</th>\n",
       "      <th>overall</th>\n",
       "      <th>price</th>\n",
       "      <th>love thi</th>\n",
       "      <th>thi product</th>\n",
       "      <th>highli recommend</th>\n",
       "      <th>receiv thi</th>\n",
       "      <th>thi just</th>\n",
       "      <th>great price</th>\n",
       "      <th>...</th>\n",
       "      <th>thi stuff</th>\n",
       "      <th>thi item</th>\n",
       "      <th>use thi product</th>\n",
       "      <th>like use</th>\n",
       "      <th>long hair</th>\n",
       "      <th>don think</th>\n",
       "      <th>use time</th>\n",
       "      <th>rank</th>\n",
       "      <th>category1</th>\n",
       "      <th>category2</th>\n",
       "    </tr>\n",
       "    <tr>\n",
       "      <th>asin</th>\n",
       "      <th></th>\n",
       "      <th></th>\n",
       "      <th></th>\n",
       "      <th></th>\n",
       "      <th></th>\n",
       "      <th></th>\n",
       "      <th></th>\n",
       "      <th></th>\n",
       "      <th></th>\n",
       "      <th></th>\n",
       "      <th></th>\n",
       "      <th></th>\n",
       "      <th></th>\n",
       "      <th></th>\n",
       "      <th></th>\n",
       "      <th></th>\n",
       "      <th></th>\n",
       "      <th></th>\n",
       "      <th></th>\n",
       "      <th></th>\n",
       "      <th></th>\n",
       "    </tr>\n",
       "  </thead>\n",
       "  <tbody>\n",
       "    <tr>\n",
       "      <th>B000050B6U</th>\n",
       "      <td>AEEJGDRRGLBB1</td>\n",
       "      <td>B000050B6U</td>\n",
       "      <td>2.0</td>\n",
       "      <td>13.95</td>\n",
       "      <td>3</td>\n",
       "      <td>4</td>\n",
       "      <td>2</td>\n",
       "      <td>0</td>\n",
       "      <td>0</td>\n",
       "      <td>2</td>\n",
       "      <td>...</td>\n",
       "      <td>0</td>\n",
       "      <td>1</td>\n",
       "      <td>0</td>\n",
       "      <td>0</td>\n",
       "      <td>4</td>\n",
       "      <td>0</td>\n",
       "      <td>0</td>\n",
       "      <td>3225</td>\n",
       "      <td>0</td>\n",
       "      <td>0</td>\n",
       "    </tr>\n",
       "    <tr>\n",
       "      <th>B000050B6U</th>\n",
       "      <td>A2K6LI89NAD2J2</td>\n",
       "      <td>B000050B6U</td>\n",
       "      <td>5.0</td>\n",
       "      <td>13.95</td>\n",
       "      <td>3</td>\n",
       "      <td>4</td>\n",
       "      <td>2</td>\n",
       "      <td>0</td>\n",
       "      <td>0</td>\n",
       "      <td>2</td>\n",
       "      <td>...</td>\n",
       "      <td>0</td>\n",
       "      <td>1</td>\n",
       "      <td>0</td>\n",
       "      <td>0</td>\n",
       "      <td>4</td>\n",
       "      <td>0</td>\n",
       "      <td>0</td>\n",
       "      <td>3225</td>\n",
       "      <td>0</td>\n",
       "      <td>0</td>\n",
       "    </tr>\n",
       "    <tr>\n",
       "      <th>B000050B6U</th>\n",
       "      <td>A1P9UMP1XSE6MI</td>\n",
       "      <td>B000050B6U</td>\n",
       "      <td>5.0</td>\n",
       "      <td>13.95</td>\n",
       "      <td>3</td>\n",
       "      <td>4</td>\n",
       "      <td>2</td>\n",
       "      <td>0</td>\n",
       "      <td>0</td>\n",
       "      <td>2</td>\n",
       "      <td>...</td>\n",
       "      <td>0</td>\n",
       "      <td>1</td>\n",
       "      <td>0</td>\n",
       "      <td>0</td>\n",
       "      <td>4</td>\n",
       "      <td>0</td>\n",
       "      <td>0</td>\n",
       "      <td>3225</td>\n",
       "      <td>0</td>\n",
       "      <td>0</td>\n",
       "    </tr>\n",
       "    <tr>\n",
       "      <th>B000050B6U</th>\n",
       "      <td>A4WX0FZ1MMAUH</td>\n",
       "      <td>B000050B6U</td>\n",
       "      <td>5.0</td>\n",
       "      <td>13.95</td>\n",
       "      <td>3</td>\n",
       "      <td>4</td>\n",
       "      <td>2</td>\n",
       "      <td>0</td>\n",
       "      <td>0</td>\n",
       "      <td>2</td>\n",
       "      <td>...</td>\n",
       "      <td>0</td>\n",
       "      <td>1</td>\n",
       "      <td>0</td>\n",
       "      <td>0</td>\n",
       "      <td>4</td>\n",
       "      <td>0</td>\n",
       "      <td>0</td>\n",
       "      <td>3225</td>\n",
       "      <td>0</td>\n",
       "      <td>0</td>\n",
       "    </tr>\n",
       "    <tr>\n",
       "      <th>B000050B6U</th>\n",
       "      <td>AHP55PFHJL0H8</td>\n",
       "      <td>B000050B6U</td>\n",
       "      <td>2.0</td>\n",
       "      <td>13.95</td>\n",
       "      <td>3</td>\n",
       "      <td>4</td>\n",
       "      <td>2</td>\n",
       "      <td>0</td>\n",
       "      <td>0</td>\n",
       "      <td>2</td>\n",
       "      <td>...</td>\n",
       "      <td>0</td>\n",
       "      <td>1</td>\n",
       "      <td>0</td>\n",
       "      <td>0</td>\n",
       "      <td>4</td>\n",
       "      <td>0</td>\n",
       "      <td>0</td>\n",
       "      <td>3225</td>\n",
       "      <td>0</td>\n",
       "      <td>0</td>\n",
       "    </tr>\n",
       "  </tbody>\n",
       "</table>\n",
       "<p>5 rows × 29 columns</p>\n",
       "</div>"
      ],
      "text/plain": [
       "                reviewerID        asin  overall  price  love thi  thi product  \\\n",
       "asin                                                                            \n",
       "B000050B6U   AEEJGDRRGLBB1  B000050B6U      2.0  13.95         3            4   \n",
       "B000050B6U  A2K6LI89NAD2J2  B000050B6U      5.0  13.95         3            4   \n",
       "B000050B6U  A1P9UMP1XSE6MI  B000050B6U      5.0  13.95         3            4   \n",
       "B000050B6U   A4WX0FZ1MMAUH  B000050B6U      5.0  13.95         3            4   \n",
       "B000050B6U   AHP55PFHJL0H8  B000050B6U      2.0  13.95         3            4   \n",
       "\n",
       "            highli recommend  receiv thi  thi just  great price    ...      \\\n",
       "asin                                                               ...       \n",
       "B000050B6U                 2           0         0            2    ...       \n",
       "B000050B6U                 2           0         0            2    ...       \n",
       "B000050B6U                 2           0         0            2    ...       \n",
       "B000050B6U                 2           0         0            2    ...       \n",
       "B000050B6U                 2           0         0            2    ...       \n",
       "\n",
       "            thi stuff  thi item  use thi product  like use  long hair  \\\n",
       "asin                                                                    \n",
       "B000050B6U          0         1                0         0          4   \n",
       "B000050B6U          0         1                0         0          4   \n",
       "B000050B6U          0         1                0         0          4   \n",
       "B000050B6U          0         1                0         0          4   \n",
       "B000050B6U          0         1                0         0          4   \n",
       "\n",
       "            don think  use time  rank  category1  category2  \n",
       "asin                                                         \n",
       "B000050B6U          0         0  3225          0          0  \n",
       "B000050B6U          0         0  3225          0          0  \n",
       "B000050B6U          0         0  3225          0          0  \n",
       "B000050B6U          0         0  3225          0          0  \n",
       "B000050B6U          0         0  3225          0          0  \n",
       "\n",
       "[5 rows x 29 columns]"
      ]
     },
     "execution_count": 11,
     "metadata": {},
     "output_type": "execute_result"
    }
   ],
   "source": [
    "item_only = df_temp.copy()\n",
    "\n",
    "item_only.index = item_only['asin']\n",
    "#item_only.drop(['asin'],axis = 1, inplace = True)\n",
    "#sim_item = cosine_similarity(item_only)\n",
    "item_only.head()"
   ]
  },
  {
   "cell_type": "code",
   "execution_count": 12,
   "metadata": {},
   "outputs": [
    {
     "name": "stderr",
     "output_type": "stream",
     "text": [
      "/anaconda3/lib/python3.6/site-packages/ipykernel_launcher.py:1: FutureWarning: 'asin' is both a column name and an index level.\n",
      "Defaulting to column but this will raise an ambiguity error in a future version\n",
      "  \"\"\"Entry point for launching an IPython kernel.\n"
     ]
    },
    {
     "data": {
      "text/html": [
       "<div>\n",
       "<style>\n",
       "    .dataframe thead tr:only-child th {\n",
       "        text-align: right;\n",
       "    }\n",
       "\n",
       "    .dataframe thead th {\n",
       "        text-align: left;\n",
       "    }\n",
       "\n",
       "    .dataframe tbody tr th {\n",
       "        vertical-align: top;\n",
       "    }\n",
       "</style>\n",
       "<table border=\"1\" class=\"dataframe\">\n",
       "  <thead>\n",
       "    <tr style=\"text-align: right;\">\n",
       "      <th></th>\n",
       "      <th>overall</th>\n",
       "      <th>price</th>\n",
       "      <th>love thi</th>\n",
       "      <th>thi product</th>\n",
       "      <th>highli recommend</th>\n",
       "      <th>receiv thi</th>\n",
       "      <th>thi just</th>\n",
       "      <th>great price</th>\n",
       "      <th>product just</th>\n",
       "      <th>easi use</th>\n",
       "      <th>...</th>\n",
       "      <th>thi stuff</th>\n",
       "      <th>thi item</th>\n",
       "      <th>use thi product</th>\n",
       "      <th>like use</th>\n",
       "      <th>long hair</th>\n",
       "      <th>don think</th>\n",
       "      <th>use time</th>\n",
       "      <th>rank</th>\n",
       "      <th>category1</th>\n",
       "      <th>category2</th>\n",
       "    </tr>\n",
       "    <tr>\n",
       "      <th>asin</th>\n",
       "      <th></th>\n",
       "      <th></th>\n",
       "      <th></th>\n",
       "      <th></th>\n",
       "      <th></th>\n",
       "      <th></th>\n",
       "      <th></th>\n",
       "      <th></th>\n",
       "      <th></th>\n",
       "      <th></th>\n",
       "      <th></th>\n",
       "      <th></th>\n",
       "      <th></th>\n",
       "      <th></th>\n",
       "      <th></th>\n",
       "      <th></th>\n",
       "      <th></th>\n",
       "      <th></th>\n",
       "      <th></th>\n",
       "      <th></th>\n",
       "      <th></th>\n",
       "    </tr>\n",
       "  </thead>\n",
       "  <tbody>\n",
       "    <tr>\n",
       "      <th>B000050B6U</th>\n",
       "      <td>4.313725</td>\n",
       "      <td>13.95</td>\n",
       "      <td>3</td>\n",
       "      <td>4</td>\n",
       "      <td>2</td>\n",
       "      <td>0</td>\n",
       "      <td>0</td>\n",
       "      <td>2</td>\n",
       "      <td>0</td>\n",
       "      <td>3</td>\n",
       "      <td>...</td>\n",
       "      <td>0</td>\n",
       "      <td>1</td>\n",
       "      <td>0</td>\n",
       "      <td>0</td>\n",
       "      <td>4</td>\n",
       "      <td>0</td>\n",
       "      <td>0</td>\n",
       "      <td>3225</td>\n",
       "      <td>0</td>\n",
       "      <td>0</td>\n",
       "    </tr>\n",
       "    <tr>\n",
       "      <th>B000052WYD</th>\n",
       "      <td>3.680000</td>\n",
       "      <td>4.20</td>\n",
       "      <td>3</td>\n",
       "      <td>15</td>\n",
       "      <td>1</td>\n",
       "      <td>0</td>\n",
       "      <td>1</td>\n",
       "      <td>1</td>\n",
       "      <td>0</td>\n",
       "      <td>0</td>\n",
       "      <td>...</td>\n",
       "      <td>0</td>\n",
       "      <td>0</td>\n",
       "      <td>2</td>\n",
       "      <td>0</td>\n",
       "      <td>0</td>\n",
       "      <td>0</td>\n",
       "      <td>0</td>\n",
       "      <td>54508</td>\n",
       "      <td>1</td>\n",
       "      <td>1</td>\n",
       "    </tr>\n",
       "    <tr>\n",
       "      <th>B000052YM7</th>\n",
       "      <td>4.010753</td>\n",
       "      <td>9.67</td>\n",
       "      <td>4</td>\n",
       "      <td>41</td>\n",
       "      <td>5</td>\n",
       "      <td>1</td>\n",
       "      <td>1</td>\n",
       "      <td>1</td>\n",
       "      <td>0</td>\n",
       "      <td>0</td>\n",
       "      <td>...</td>\n",
       "      <td>10</td>\n",
       "      <td>1</td>\n",
       "      <td>13</td>\n",
       "      <td>0</td>\n",
       "      <td>0</td>\n",
       "      <td>1</td>\n",
       "      <td>2</td>\n",
       "      <td>561</td>\n",
       "      <td>2</td>\n",
       "      <td>2</td>\n",
       "    </tr>\n",
       "    <tr>\n",
       "      <th>B000052YMR</th>\n",
       "      <td>4.614035</td>\n",
       "      <td>18.99</td>\n",
       "      <td>4</td>\n",
       "      <td>14</td>\n",
       "      <td>3</td>\n",
       "      <td>0</td>\n",
       "      <td>0</td>\n",
       "      <td>0</td>\n",
       "      <td>0</td>\n",
       "      <td>0</td>\n",
       "      <td>...</td>\n",
       "      <td>6</td>\n",
       "      <td>0</td>\n",
       "      <td>4</td>\n",
       "      <td>1</td>\n",
       "      <td>0</td>\n",
       "      <td>0</td>\n",
       "      <td>1</td>\n",
       "      <td>6216</td>\n",
       "      <td>3</td>\n",
       "      <td>2</td>\n",
       "    </tr>\n",
       "    <tr>\n",
       "      <th>B0000530ED</th>\n",
       "      <td>4.009709</td>\n",
       "      <td>7.85</td>\n",
       "      <td>11</td>\n",
       "      <td>23</td>\n",
       "      <td>4</td>\n",
       "      <td>0</td>\n",
       "      <td>0</td>\n",
       "      <td>0</td>\n",
       "      <td>0</td>\n",
       "      <td>3</td>\n",
       "      <td>...</td>\n",
       "      <td>8</td>\n",
       "      <td>1</td>\n",
       "      <td>2</td>\n",
       "      <td>1</td>\n",
       "      <td>4</td>\n",
       "      <td>0</td>\n",
       "      <td>1</td>\n",
       "      <td>20927</td>\n",
       "      <td>4</td>\n",
       "      <td>3</td>\n",
       "    </tr>\n",
       "  </tbody>\n",
       "</table>\n",
       "<p>5 rows × 27 columns</p>\n",
       "</div>"
      ],
      "text/plain": [
       "             overall  price  love thi  thi product  highli recommend  \\\n",
       "asin                                                                   \n",
       "B000050B6U  4.313725  13.95         3            4                 2   \n",
       "B000052WYD  3.680000   4.20         3           15                 1   \n",
       "B000052YM7  4.010753   9.67         4           41                 5   \n",
       "B000052YMR  4.614035  18.99         4           14                 3   \n",
       "B0000530ED  4.009709   7.85        11           23                 4   \n",
       "\n",
       "            receiv thi  thi just  great price  product just  easi use  \\\n",
       "asin                                                                    \n",
       "B000050B6U           0         0            2             0         3   \n",
       "B000052WYD           0         1            1             0         0   \n",
       "B000052YM7           1         1            1             0         0   \n",
       "B000052YMR           0         0            0             0         0   \n",
       "B0000530ED           0         0            0             0         3   \n",
       "\n",
       "              ...      thi stuff  thi item  use thi product  like use  \\\n",
       "asin          ...                                                       \n",
       "B000050B6U    ...              0         1                0         0   \n",
       "B000052WYD    ...              0         0                2         0   \n",
       "B000052YM7    ...             10         1               13         0   \n",
       "B000052YMR    ...              6         0                4         1   \n",
       "B0000530ED    ...              8         1                2         1   \n",
       "\n",
       "            long hair  don think  use time   rank  category1  category2  \n",
       "asin                                                                     \n",
       "B000050B6U          4          0         0   3225          0          0  \n",
       "B000052WYD          0          0         0  54508          1          1  \n",
       "B000052YM7          0          1         2    561          2          2  \n",
       "B000052YMR          0          0         1   6216          3          2  \n",
       "B0000530ED          4          0         1  20927          4          3  \n",
       "\n",
       "[5 rows x 27 columns]"
      ]
     },
     "execution_count": 12,
     "metadata": {},
     "output_type": "execute_result"
    }
   ],
   "source": [
    "item_only = item_only.groupby(\"asin\", as_index= True).mean()\n",
    "item_only.head()"
   ]
  },
  {
   "cell_type": "code",
   "execution_count": 13,
   "metadata": {
    "collapsed": true
   },
   "outputs": [],
   "source": [
    "\n",
    "sim_item = cosine_similarity(item_only)\n",
    "item_pos = {}\n",
    "all_items = df_temp.asin.unique()\n",
    "for i in range(len(all_items)):\n",
    "    curItemID = all_items[i]\n",
    "    item_pos[curItemID] = i"
   ]
  },
  {
   "cell_type": "code",
   "execution_count": 14,
   "metadata": {
    "collapsed": true
   },
   "outputs": [],
   "source": [
    "def minimal_and_factorize(df_original):\n",
    "\n",
    "    df_minimal = df_original[['reviewerID','asin','overall']]\n",
    "    labels_user, levels_user = pd.factorize(df_minimal['reviewerID'])\n",
    "    df_minimal['userID'] = labels_user\n",
    "    df_minimal = df_minimal.drop('reviewerID',axis = 1)\n",
    "    labels_item, levels_item = pd.factorize(df_minimal['asin'])\n",
    "    df_minimal['itemID'] = labels_item\n",
    "    df_minimal = df_minimal.drop('asin',axis = 1)\n",
    "    df_minimal['rating'] = df_minimal['overall'].astype(int)\n",
    "    df_minimal = df_minimal.drop('overall',axis = 1)\n",
    "        \n",
    "    return df_minimal,(labels_user,levels_user),(labels_item,levels_item)"
   ]
  },
  {
   "cell_type": "code",
   "execution_count": 15,
   "metadata": {
    "collapsed": true
   },
   "outputs": [],
   "source": [
    "def factorize(df_original):\n",
    "    df_minimal = df_original\n",
    "    labels_user, levels_user = pd.factorize(df_minimal['reviewerID'])\n",
    "    df_minimal['userID'] = labels_user\n",
    "    df_minimal = df_minimal.drop('reviewerID',axis = 1)\n",
    "    labels_item, levels_item = pd.factorize(df_minimal['asin'])\n",
    "    df_minimal['itemID'] = labels_item\n",
    "    df_minimal = df_minimal.drop('asin',axis = 1)\n",
    "    \n",
    "    \n",
    "    df_minimal['rating'] = df_minimal['overall'].astype(int)\n",
    "    df_minimal = df_minimal.drop('overall',axis = 1)\n",
    "    df_minimal['rank'] = df_minimal['rank'].astype(int)\n",
    "    \n",
    "    #some of them don't have the fourth category in the list, so the catogiries will take the first element \n",
    "    df_minimal['categories'] = df_minimal['categories'].apply(lambda x: x[0])\n",
    "    df_minimal['categories'] = df_minimal['categories'].apply(lambda x: x[3] if len(x) > 3 else x[0])\n",
    "    labels_cat, levels_cat = pd.factorize(df_minimal['categories'])\n",
    "    df_minimal['categories'] = labels_cat\n",
    "    \n",
    "    \n",
    "    #price go into a few bins\n",
    "    bins = [0, 10, 20, 30, 40, 50, 250]\n",
    "    labels = [1,2,3,4,5,6]\n",
    "    df_minimal['binned_price'] = pd.cut(df_minimal['price'], bins=bins, labels=labels)\n",
    "    \n",
    "    return df_minimal,(labels_user,levels_user),(labels_item,levels_item),(labels_cat,levels_cat)"
   ]
  },
  {
   "cell_type": "code",
   "execution_count": 1038,
   "metadata": {},
   "outputs": [
    {
     "name": "stderr",
     "output_type": "stream",
     "text": [
      "/anaconda3/lib/python3.6/site-packages/ipykernel_launcher.py:5: SettingWithCopyWarning: \n",
      "A value is trying to be set on a copy of a slice from a DataFrame.\n",
      "Try using .loc[row_indexer,col_indexer] = value instead\n",
      "\n",
      "See the caveats in the documentation: http://pandas.pydata.org/pandas-docs/stable/indexing.html#indexing-view-versus-copy\n",
      "  \"\"\"\n"
     ]
    }
   ],
   "source": [
    "train_orig,test_orig = train_test_split(df_temp1, test_size = 0.25, random_state = 7)\n",
    "train,label_level_u_train,label_level_i_train = minimal_and_factorize(train_orig)\n",
    "test,label_level_u_test,label_level_i_test = minimal_and_factorize(test_orig)"
   ]
  },
  {
   "cell_type": "code",
   "execution_count": 1039,
   "metadata": {
    "collapsed": true
   },
   "outputs": [],
   "source": [
    "#train_dict: {user:{item,rating}}\n",
    "train_dict = {}\n",
    "for user in train.userID.unique():\n",
    "    sub_dict = {}\n",
    "    subset = train[train['userID'] == user]\n",
    "    for item in subset.itemID:\n",
    "        sub_dict[item] = list(subset[subset['itemID']==item].rating)[0]\n",
    "    train_dict[user] = sub_dict\n",
    "\n",
    "#test_dict: {(user,item):rating}   \n",
    "test_dict = {}\n",
    "for i in range(test.shape[0]):\n",
    "    user = test.iloc[i].userID\n",
    "    item = test.iloc[i].itemID\n",
    "    test_dict[user,item] = test.iloc[i].rating"
   ]
  },
  {
   "cell_type": "code",
   "execution_count": null,
   "metadata": {
    "collapsed": true
   },
   "outputs": [],
   "source": []
  },
  {
   "cell_type": "code",
   "execution_count": 18,
   "metadata": {
    "collapsed": true
   },
   "outputs": [],
   "source": [
    "def transform_train_dict(dictionary):\n",
    "    \"\"\"\n",
    "    This function transbose the user-item matrix pass into it to a item-user matrix\n",
    "    \"\"\"\n",
    "    transform = {}\n",
    "    for user, itemList in dictionary.items():\n",
    "        for item, rating in itemList.items():\n",
    "            if item not in transform.keys():\n",
    "                transform[item] = {user : rating}\n",
    "            else:    \n",
    "                transform[item].update({user : rating})\n",
    "    return transform"
   ]
  },
  {
   "cell_type": "code",
   "execution_count": 1041,
   "metadata": {},
   "outputs": [
    {
     "name": "stdout",
     "output_type": "stream",
     "text": [
      "17552\n",
      "729\n"
     ]
    }
   ],
   "source": [
    "n_users = df_temp1.reviewerID.unique().shape[0]\n",
    "n_items = df_temp1.asin.unique().shape[0]\n",
    "print(n_users)\n",
    "print(n_items)"
   ]
  },
  {
   "cell_type": "code",
   "execution_count": 1042,
   "metadata": {
    "collapsed": true
   },
   "outputs": [],
   "source": [
    "#create user-item matrix for train and test set\n",
    "train_matrix = train.pivot(index='userID', columns='itemID', values='rating')\n",
    "train_matrix = np.array(train_matrix.fillna(0))\n",
    "\n",
    "test_matrix = test.pivot(index='userID', columns='itemID', values='rating')\n",
    "test_matrix = np.array(test_matrix.fillna(0))"
   ]
  },
  {
   "cell_type": "code",
   "execution_count": 1043,
   "metadata": {
    "collapsed": true
   },
   "outputs": [],
   "source": [
    "#compute cosine similarity between users and users\n",
    "sim_user = cosine_similarity(train_matrix)"
   ]
  },
  {
   "cell_type": "code",
   "execution_count": 877,
   "metadata": {
    "collapsed": true
   },
   "outputs": [],
   "source": [
    "#compute cosine similarity between items\n",
    "sim_item_new = cosine_similarity(train_matrix.T)"
   ]
  },
  {
   "cell_type": "code",
   "execution_count": 1044,
   "metadata": {
    "collapsed": true
   },
   "outputs": [],
   "source": [
    "#user_pos dict: {userID: position in sim_user matrix}\n",
    "#associate userID with position in similarity matrix\n",
    "user_pos = {}\n",
    "all_users = train.userID.unique()\n",
    "for i in range(len(all_users)):\n",
    "    curUserID = all_users[i]\n",
    "    user_pos[curUserID] = i\n",
    "    \n"
   ]
  },
  {
   "cell_type": "code",
   "execution_count": 24,
   "metadata": {
    "collapsed": true
   },
   "outputs": [],
   "source": [
    "#Find K nearest neighbors for user i\n",
    "def find_neighbors(train,sim_matrix,user_i,k = 5):\n",
    "    user_pos = {}\n",
    "    all_users = train.userID.unique()\n",
    "    for i in range(len(all_users)):\n",
    "        curUserID = all_users[i]\n",
    "        user_pos[curUserID] = i\n",
    "    \n",
    "    all_users = train.userID.unique()\n",
    "    sim_for_user_i = [(user,sim_matrix[user_pos[user],user_pos[user_i]])\n",
    "                     for user in all_users if user != user_i]\n",
    "    sim_for_user_i.sort(key = lambda x: x[1],reverse = True)\n",
    "    #return ID of users most similar to user_i\n",
    "    return [x[0] for x in sim_for_user_i][:k]"
   ]
  },
  {
   "cell_type": "code",
   "execution_count": 25,
   "metadata": {
    "collapsed": true
   },
   "outputs": [],
   "source": [
    "def find_neighbors_item(train,sim_matrix,item_i,k = 5):\n",
    "    all_items = train.itemID.unique()\n",
    "    sim_for_item_i = [(item,sim_matrix[item,item_i]) for item in all_items if item != item_i]\n",
    "    sim_for_item_i.sort(key = lambda x: x[1],reverse = True)\n",
    "    #return ID of items most similar to item_i\n",
    "    return [x[0] for x in sim_for_item_i][:k]"
   ]
  },
  {
   "cell_type": "code",
   "execution_count": 26,
   "metadata": {
    "collapsed": true
   },
   "outputs": [],
   "source": [
    "#Calculate average rating in a dictionary \n",
    "def mean_rating(dictionary):\n",
    "    total = sum([val for val in dictionary.values()])\n",
    "    return (total.astype(float)) / len(dictionary)"
   ]
  },
  {
   "cell_type": "code",
   "execution_count": 27,
   "metadata": {
    "collapsed": true
   },
   "outputs": [],
   "source": [
    "#RMSE for dictionary\n",
    "#Here prediction is a dictionary of the form {(user,item),rating}\n",
    "def RMSE_dict(prediction,test_dict):\n",
    "    error = 0\n",
    "    for key in prediction.keys():\n",
    "        error += (prediction[key]-test_dict[key])**2\n",
    "    return np.sqrt(error/len(prediction.keys()))"
   ]
  },
  {
   "cell_type": "code",
   "execution_count": 28,
   "metadata": {
    "collapsed": true
   },
   "outputs": [],
   "source": [
    "#RMSE for matrix\n",
    "#Here prediction is a user-item matrix for train\n",
    "#test_matrix is user-item matrix for test\n",
    "def rmse_matrix(prediction, test_matrix):\n",
    "    prediction = prediction[test_matrix.nonzero()].flatten() \n",
    "    test_matrix = test_matrix[test_matrix.nonzero()].flatten()\n",
    "    return np.sqrt(mean_squared_error(prediction, test_matrix))"
   ]
  },
  {
   "cell_type": "code",
   "execution_count": 1062,
   "metadata": {
    "collapsed": true
   },
   "outputs": [],
   "source": [
    "class item_based_CF():\n",
    "    \n",
    "    def __init__(self, sim_item):\n",
    "        '''\n",
    "        Initialize gradient boosting class\n",
    "        \n",
    "        :param n_estimator: number of estimators (i.e. number of rounds of gradient boosting)\n",
    "        :pseudo_residual_func: function used for computing pseudo-residual\n",
    "        :param learning_rate: step size of gradient descent\n",
    "        '''\n",
    "        self.sim_item = sim_item\n",
    "        \n",
    "      \n",
    "   \n",
    "    def fit(self, train, train_dict, k=3):\n",
    "        '''\n",
    "        Fit item based CF model\n",
    "        '''\n",
    "        \n",
    "        self.average = {}\n",
    "        self.numer = {}\n",
    "        self.denom = {}\n",
    "        sim_item = self.sim_item\n",
    "        \n",
    "        train_dict_item = transform_train_dict(train_dict)\n",
    "        for user in train_dict.keys():\n",
    "            #train to get nearest neighbor\n",
    "            itemset = train_dict[user] \n",
    "\n",
    "            for item in itemset.keys():\n",
    "                #if item in test_item.keys():\n",
    "                nn = find_neighbors_item(train, sim_item, item, k)\n",
    "                self.average[item] = mean_rating(train_dict_item[item])\n",
    "                mutual = list(set(nn) & set(list(train_dict[user].keys())))\n",
    "                w_sim = [sim_item[item, i] for i in mutual]\n",
    "                r_sim = [train_dict[user][i] for i in mutual]\n",
    "                w_array = np.array(w_sim)\n",
    "                r_array = np.array(r_sim)\n",
    "                den = sum(abs(w_array))\n",
    "                num = sum(w_array*r_array)\n",
    "                self.numer[(user,item)] = num\n",
    "                self.denom[(user,item)] = den\n",
    "                \n",
    "        self.fitted = True\n",
    "                \n",
    "        return self\n",
    "    \n",
    "    def predict_train(self, train_dict):\n",
    "        prediction = {}\n",
    "        for user in train_dict.keys():\n",
    "            itemset = train_dict[user]\n",
    "            for item in itemset.keys():\n",
    "                numer = self.numer[(user,item)]\n",
    "                denom = self.denom[(user,item)]\n",
    "                \n",
    "                if denom == 0:\n",
    "                    prediction[(user,item)]= self.average[item]\n",
    "                else:\n",
    "                    prediction[(user,item)]= numer/denom\n",
    "        return prediction\n",
    "    \n",
    "    def predict_test(self,train_dict,test_dict):\n",
    "        prediction = {}\n",
    "        \n",
    "        numer = 0\n",
    "        denom = 0\n",
    "        \n",
    "        for user_item in test_dict.keys():\n",
    "            user,item = user_item\n",
    "            \n",
    "            if user in train_dict.keys():\n",
    "                if item in train_dict[user].keys():\n",
    "                    numer = self.numer[(user,item)]\n",
    "                    denom = self.denom[(user,item)]\n",
    "                    \n",
    "            if denom == 0:\n",
    "                prediction[(user,item)]= self.average[item]\n",
    "            else:\n",
    "                prediction[(user,item)]= numer/denom\n",
    "        return prediction\n",
    "    "
   ]
  },
  {
   "cell_type": "code",
   "execution_count": 30,
   "metadata": {
    "collapsed": true
   },
   "outputs": [],
   "source": [
    "def transform_train(train_dict):\n",
    "        train_dict_trans = {}\n",
    "        for users in train_dict.keys():\n",
    "            for item, rating in train_dict[users].items():\n",
    "                train_dict_trans[(users, item)] = rating\n",
    "        return train_dict_trans"
   ]
  },
  {
   "cell_type": "code",
   "execution_count": 1063,
   "metadata": {
    "collapsed": true
   },
   "outputs": [],
   "source": [
    "item_based= item_based_CF(sim_item)\n",
    "model = item_based.fit(train, train_dict)\n",
    "y = model.predict_train(train_dict)"
   ]
  },
  {
   "cell_type": "code",
   "execution_count": 1064,
   "metadata": {
    "collapsed": true
   },
   "outputs": [],
   "source": [
    "train_dict_trans = transform_train(train_dict)"
   ]
  },
  {
   "cell_type": "code",
   "execution_count": 1065,
   "metadata": {},
   "outputs": [
    {
     "data": {
      "text/plain": [
       "1.0490829978506646"
      ]
     },
     "execution_count": 1065,
     "metadata": {},
     "output_type": "execute_result"
    }
   ],
   "source": [
    "RMSE_dict(y, train_dict_trans)"
   ]
  },
  {
   "cell_type": "code",
   "execution_count": 1066,
   "metadata": {},
   "outputs": [
    {
     "data": {
      "text/plain": [
       "1.283425621686656"
      ]
     },
     "execution_count": 1066,
     "metadata": {},
     "output_type": "execute_result"
    }
   ],
   "source": [
    "y_test = model.predict_test(train_dict, test_dict)\n",
    "RMSE_dict(y_test, test_dict)"
   ]
  },
  {
   "cell_type": "code",
   "execution_count": 35,
   "metadata": {
    "collapsed": true
   },
   "outputs": [],
   "source": [
    "class user_based_CF():\n",
    "    \n",
    "    def __init__(self, sim_user):\n",
    "        '''\n",
    "        Initialize gradient boosting class\n",
    "        \n",
    "        :param n_estimator: number of estimators (i.e. number of rounds of gradient boosting)\n",
    "        :pseudo_residual_func: function used for computing pseudo-residual\n",
    "        :param learning_rate: step size of gradient descent\n",
    "        '''\n",
    "        self.user_item = sim_user\n",
    "        self.average = {}\n",
    "        self.numer = {}\n",
    "        self.denom = {}\n",
    "      \n",
    "   \n",
    "    def fit(self, train, train_dict, k=3):\n",
    "        '''\n",
    "        Fit item based CF model\n",
    "        '''\n",
    "        \n",
    "        \n",
    "        \n",
    "        train_dict_item = transform_train_dict(train_dict)\n",
    "        counter = 0\n",
    "        for user in train_dict.keys():\n",
    "            counter += 1\n",
    "            if counter%1000 ==0:\n",
    "                print(counter)\n",
    "\n",
    "            self.average[user] = mean_rating(train_dict[user])\n",
    "            item_rating = train_dict[user]\n",
    "            nn = find_neighbors(train,sim_user,user)\n",
    "\n",
    "            for item in item_rating.keys():\n",
    "\n",
    "                mutual = list(set(nn) & set(list(train_dict_item[item].keys())))\n",
    "                num = sum([sim_user[user_pos[user],user_pos[cust]]*(train_dict_item[item][cust]-mean_rating(train_dict[cust]))\n",
    "                            for cust in mutual])\n",
    "                den = sum(np.abs([sim_user[user_pos[user],user_pos[cust]] for cust in mutual]))\n",
    "                self.numer[(user,item)] = num\n",
    "                self.denom[(user,item)] = den\n",
    "                \n",
    "                \n",
    "        self.fitted = True\n",
    "                \n",
    "        return self\n",
    "    \n",
    "    def predict_train(self, train_dict):\n",
    "        prediction = {}\n",
    "        \n",
    "        numer = 0\n",
    "        denom = 0\n",
    "        \n",
    "        for user in train_dict.keys():\n",
    "            itemset = train_dict[user]\n",
    "            for item in itemset.keys():\n",
    "                numer = self.numer[(user,item)]\n",
    "                denom = self.denom[(user,item)]\n",
    "                \n",
    "                if denom == 0:\n",
    "                    prediction[(user,item)]= self.average[user]\n",
    "                else:\n",
    "                    prediction[(user,item)]= numer/denom + self.average[user]\n",
    "                \n",
    "        return prediction\n",
    "    \n",
    "    def predict_test(self,train_dict,test_dict):\n",
    "        prediction = {}\n",
    "        \n",
    "        numer = 0\n",
    "        denom = 0\n",
    "        \n",
    "        for user_item in test_dict.keys():\n",
    "            user,item = user_item\n",
    "            \n",
    "            if user in train_dict.keys():\n",
    "                if item in train_dict[user].keys():\n",
    "                    numer = self.numer[(user,item)]\n",
    "                    denom = self.denom[(user,item)]\n",
    "                    \n",
    "            if denom == 0:\n",
    "                prediction[(user,item)]= self.average[user]\n",
    "            else:\n",
    "                prediction[(user,item)]= numer/denom + self.average[user]\n",
    "        return prediction\n",
    "\n",
    "\n"
   ]
  },
  {
   "cell_type": "code",
   "execution_count": null,
   "metadata": {},
   "outputs": [
    {
     "name": "stdout",
     "output_type": "stream",
     "text": [
      "1000\n",
      "2000\n",
      "3000\n",
      "4000\n",
      "5000\n",
      "6000\n",
      "7000\n",
      "8000\n",
      "9000\n",
      "10000\n",
      "11000\n",
      "12000\n",
      "13000\n"
     ]
    }
   ],
   "source": [
    "user_based= user_based_CF(sim_user)\n",
    "model_user = user_based.fit(train, train_dict,k = 10)\n",
    "y_user = model_user.predict_train(train_dict)"
   ]
  },
  {
   "cell_type": "code",
   "execution_count": 1067,
   "metadata": {},
   "outputs": [
    {
     "data": {
      "text/plain": [
       "0.82404954007003306"
      ]
     },
     "execution_count": 1067,
     "metadata": {},
     "output_type": "execute_result"
    }
   ],
   "source": [
    "RMSE_dict(y_user, train_dict_trans)"
   ]
  },
  {
   "cell_type": "code",
   "execution_count": 1068,
   "metadata": {},
   "outputs": [
    {
     "data": {
      "text/plain": [
       "1.4793004501344382"
      ]
     },
     "execution_count": 1068,
     "metadata": {},
     "output_type": "execute_result"
    }
   ],
   "source": [
    "y_user_test = model_user.predict_test(train_dict, test_dict)\n",
    "RMSE_dict(y_user_test, test_dict)"
   ]
  },
  {
   "cell_type": "code",
   "execution_count": 843,
   "metadata": {},
   "outputs": [],
   "source": [
    "class MF_SGD():\n",
    "\n",
    "    def __init__(self, n_users, n_items, factors=150, maxIter=10000000, lr=0.01, conv=1e-20, lamda = 0.01):\n",
    "        \n",
    "        '''\n",
    "        self.n_users = n_users\n",
    "        self.n_items = n_items\n",
    "        self.factors = factors\n",
    "        self.maxIter = maxIter\n",
    "        self.lr = lr\n",
    "        self.conv = conv\n",
    "        self.lamda = lamda\n",
    "        self.latent_mat_user = np.random.rand(n_users, self.factors) / 3\n",
    "        self.latent_mat_item = np.random.rand(n_items, self.factors) / 3\n",
    "        \n",
    "\n",
    "\t\t#self.user2idx = {user: idx for (idx, user) in enumerate(self.users)}\n",
    "\t\t#self.item2idx = {item: idx for (idx, item) in enumerate(self.items)}\n",
    "        '''\n",
    "        \n",
    "        self.n_users = n_users\n",
    "        self.n_items = n_items\n",
    "        self.factors = factors\n",
    "        self.maxIter = maxIter\n",
    "        self.lr = lr\n",
    "        self.conv = conv\n",
    "        self.lamda = lamda\n",
    "        self.latent_mat_user = np.random.rand(self.n_users, self.factors) / 3\n",
    "        self.latent_mat_item = np.random.rand(self.n_items, self.factors) / 3\n",
    "        \n",
    "    \n",
    "    \n",
    "    def fit(self,train):\n",
    "        \n",
    "        #self.idx2user = {idx: user for (idx, user) in enumerate(train['userID'])}\n",
    "        #self.idx2item = {idx: item for (idx, item) in enumerate(train['itemID'])}\n",
    "        self.user2idx = {idx: user for (idx, user) in enumerate(train['userID'])}\n",
    "        self.item2idx = {idx: item for (idx, item) in enumerate(train['itemID'])}\n",
    "       \n",
    "        loss_list = []\n",
    "        iteration = 0\n",
    "        hist_loss = 0\n",
    "        while iteration<self.maxIter:\n",
    "\n",
    "            #if iteration%10000 == 0:\n",
    "                #print(iteration)\n",
    "\n",
    "            loss = 0\n",
    "            index = np.random.randint(len(train))\n",
    "\n",
    "            uid, iid, rate = train.iloc[index]\n",
    "            error = rate - np.dot(self.latent_mat_user[uid], self.latent_mat_item[iid])\n",
    "            loss += error**2 + self.lamda*(np.linalg.norm(self.latent_mat_user[uid])+np.linalg.norm(self.latent_mat_item[iid]))\n",
    "            old_user = self.latent_mat_user[uid]\n",
    "            old_item = self.latent_mat_item[iid]\n",
    "            self.latent_mat_user[uid] += self.lr*(error*self.latent_mat_item[iid]-self.lamda*old_user)\n",
    "            self.latent_mat_item[iid] += self.lr*(error*self.latent_mat_user[uid]-self.lamda*old_item)\n",
    "            iteration+=1\n",
    "            loss_list.append(loss)\n",
    "            diff = hist_loss-loss\n",
    "            #to converge\n",
    "            if abs(hist_loss) > abs(loss):\n",
    "                self.lr *= 1.05\n",
    "            else:\n",
    "                self.lr *= 0.5\n",
    "            if abs(diff) < abs(self.conv):\n",
    "                break\n",
    "            hist_loss = loss\n",
    "        return self\n",
    "    \n",
    "    def predict_one(self,uid,iid):\n",
    "        userIdx = self.user2idx[uid]\n",
    "        itemIdx = self.item2idx[iid]\n",
    "\n",
    "        return np.dot(self.latent_mat_user[userIdx],self.latent_mat_item[itemIdx].T)\n",
    "    \n",
    "    def predict(self,test_mat):\n",
    "        pred_mat = np.dot(self.latent_mat_user,self.latent_mat_item.T)\n",
    "        #prediction={}\n",
    "        \n",
    "        prediction = [self.predict_one(row[1]['userID'], row[1]['itemID']) for row in test_dict.iterrows()]\n",
    "        \n",
    "        '''\n",
    "        for i in range(len(pred_mat)):\n",
    "            idxuser = self.idx2user[i]\n",
    "            for j in range(pred_mat.shape[1]):\n",
    "                idxitem = self.idx2item[j]\n",
    "                prediction[(idxuser,idxitem)] = pred_mat[i,j]\n",
    "        '''\n",
    "        return prediction\n",
    "\n",
    "\n",
    "\n",
    "        \n"
   ]
  },
  {
   "cell_type": "code",
   "execution_count": 844,
   "metadata": {},
   "outputs": [],
   "source": [
    "mf_based= MF_SGD(n_users, n_items, factors=150, maxIter=10000000, lr=0.01, conv=1e-20, lamda = 0.01)\n",
    "model_mf = mf_based.fit(train)\n"
   ]
  },
  {
   "cell_type": "code",
   "execution_count": 868,
   "metadata": {},
   "outputs": [],
   "source": [
    "y_mf_train_mat = model_mf.predict(train)\n",
    "y_mf_test_mat = model_mf.predict(test)\n",
    "#y_mf_train = model_mf.predict(train_dict, train_dict)"
   ]
  },
  {
   "cell_type": "code",
   "execution_count": 859,
   "metadata": {},
   "outputs": [
    {
     "data": {
      "text/plain": [
       "1.1512809336870706"
      ]
     },
     "execution_count": 859,
     "metadata": {},
     "output_type": "execute_result"
    }
   ],
   "source": [
    "np.sqrt(mean_squared_error(y_mf_train,train['rating']))"
   ]
  },
  {
   "cell_type": "code",
   "execution_count": 869,
   "metadata": {},
   "outputs": [],
   "source": [
    "#convert test prediction matrix into dictionary\n",
    "y_mf = {}\n",
    "for i in range(len(y_mf_test_mat)):\n",
    "    user = test.iloc[i]['userID']\n",
    "    item = test.iloc[i]['itemID']\n",
    "    y_mf[(user,item)] = y_mf_test_mat[i]\n"
   ]
  },
  {
   "cell_type": "code",
   "execution_count": 948,
   "metadata": {
    "collapsed": true
   },
   "outputs": [],
   "source": [
    "#convert test prediction matrix into dictionary\n",
    "y_mf_train = {}\n",
    "for i in range(len(y_mf_train_mat)):\n",
    "    user = train.iloc[i]['userID']\n",
    "    item = train.iloc[i]['itemID']\n",
    "    y_mf_train[(user,item)] = y_mf_train_mat[i]"
   ]
  },
  {
   "cell_type": "code",
   "execution_count": 949,
   "metadata": {
    "collapsed": true
   },
   "outputs": [],
   "source": [
    "def RMSE_mf(prediction, test_dict):\n",
    "    error = 0\n",
    "    count = 0\n",
    "    for key in test_dict.keys():\n",
    "        if key in prediction.keys():\n",
    "            count +=1\n",
    "            error += (prediction[key]-test_dict[key])**2\n",
    "    return np.sqrt(error/count)"
   ]
  },
  {
   "cell_type": "code",
   "execution_count": 872,
   "metadata": {},
   "outputs": [
    {
     "data": {
      "text/plain": [
       "1.1361618424985915"
      ]
     },
     "execution_count": 872,
     "metadata": {},
     "output_type": "execute_result"
    }
   ],
   "source": [
    "RMSE_mf(y_mf, test_dict)"
   ]
  },
  {
   "cell_type": "markdown",
   "metadata": {},
   "source": [
    "#### Correlation"
   ]
  },
  {
   "cell_type": "code",
   "execution_count": 950,
   "metadata": {},
   "outputs": [],
   "source": [
    "\n",
    "y_mf_revised = {}\n",
    "for key in y_user.keys():\n",
    "    y_mf_revised[key] = y_mf_train[key]\n"
   ]
  },
  {
   "cell_type": "code",
   "execution_count": 887,
   "metadata": {},
   "outputs": [],
   "source": [
    "y_mf_test = {}\n",
    "for key in y_user_test.keys():\n",
    "    y_mf_test[key] = y_mf[key]"
   ]
  },
  {
   "cell_type": "code",
   "execution_count": 951,
   "metadata": {
    "collapsed": true
   },
   "outputs": [],
   "source": [
    "\n",
    "df1 = pd.DataFrame.from_dict(y_mf_revised, orient='index')\n",
    "df2 = pd.DataFrame.from_dict(y_user, orient='index')\n",
    "df3 = pd.DataFrame.from_dict(y, orient='index')\n",
    "df = pd.concat([df1, df2, df3], axis=1)\n",
    "df.columns = ['mf', 'user_based', 'item_based']\n"
   ]
  },
  {
   "cell_type": "code",
   "execution_count": 952,
   "metadata": {},
   "outputs": [
    {
     "data": {
      "text/plain": [
       "0    0.004542\n",
       "dtype: float64"
      ]
     },
     "execution_count": 952,
     "metadata": {},
     "output_type": "execute_result"
    }
   ],
   "source": [
    "df1.corrwith(df2, axis = 0)"
   ]
  },
  {
   "cell_type": "code",
   "execution_count": 953,
   "metadata": {},
   "outputs": [
    {
     "data": {
      "text/plain": [
       "0    0.282323\n",
       "dtype: float64"
      ]
     },
     "execution_count": 953,
     "metadata": {},
     "output_type": "execute_result"
    }
   ],
   "source": [
    "df2.corrwith(df3, axis = 0)"
   ]
  },
  {
   "cell_type": "code",
   "execution_count": 954,
   "metadata": {},
   "outputs": [
    {
     "data": {
      "text/plain": [
       "0    0.013505\n",
       "dtype: float64"
      ]
     },
     "execution_count": 954,
     "metadata": {},
     "output_type": "execute_result"
    }
   ],
   "source": [
    "df1.corrwith(df3, axis = 0)"
   ]
  },
  {
   "cell_type": "code",
   "execution_count": 955,
   "metadata": {
    "collapsed": true
   },
   "outputs": [],
   "source": [
    "\n",
    "train_test_dict = {}\n",
    "mf_revised_dict = {}\n",
    "user_revised_dict = {}\n",
    "item_revised_dict = {}\n",
    "for key in train_dict_trans.keys():\n",
    "    if key in y_user.keys():\n",
    "        train_test_dict[key] = train_dict_trans[key]\n",
    "        mf_revised_dict[key] = y_mf_revised[key]\n",
    "        user_revised_dict[key] = y_user[key]\n",
    "        item_revised_dict[key] = y[key]\n"
   ]
  },
  {
   "cell_type": "code",
   "execution_count": 891,
   "metadata": {
    "collapsed": true
   },
   "outputs": [],
   "source": [
    "new_test_dict = {}\n",
    "mf_test_dict = {}\n",
    "user_test_dict = {}\n",
    "item_test_dict = {}\n",
    "for key in test_dict.keys():\n",
    "    if key in y_mf_test.keys():\n",
    "        new_test_dict[key] = test_dict[key]\n",
    "        mf_test_dict[key] = y_mf_test[key]\n",
    "        user_test_dict[key] = y_user_test[key]\n",
    "        item_test_dict[key] = y_test[key]"
   ]
  },
  {
   "cell_type": "code",
   "execution_count": 956,
   "metadata": {
    "collapsed": true
   },
   "outputs": [],
   "source": [
    "\n",
    "df1 = pd.DataFrame.from_dict(mf_revised_dict, orient='index')\n",
    "df2 = pd.DataFrame.from_dict(user_revised_dict, orient='index')\n",
    "df3 = pd.DataFrame.from_dict(item_revised_dict, orient='index')\n",
    "true_target = pd.DataFrame.from_dict(train_test_dict, orient='index')\n"
   ]
  },
  {
   "cell_type": "code",
   "execution_count": 892,
   "metadata": {
    "collapsed": true
   },
   "outputs": [],
   "source": [
    "df1_test = pd.DataFrame.from_dict(mf_test_dict, orient='index')\n",
    "df2_test = pd.DataFrame.from_dict(user_test_dict, orient='index')\n",
    "df3_test = pd.DataFrame.from_dict(item_test_dict, orient='index')\n",
    "true_target_test = pd.DataFrame.from_dict(new_test_dict, orient='index')"
   ]
  },
  {
   "cell_type": "code",
   "execution_count": 957,
   "metadata": {
    "collapsed": true
   },
   "outputs": [],
   "source": [
    "\n",
    "df_feature = pd.concat([df1, df2, df3], axis = 1)\n",
    "df_feature.columns = ['mf','user','item']\n"
   ]
  },
  {
   "cell_type": "code",
   "execution_count": 893,
   "metadata": {
    "collapsed": true
   },
   "outputs": [],
   "source": [
    "df_feature_test = pd.concat([df1_test, df2_test, df3_test], axis = 1)\n",
    "df_feature_test.columns = ['mf','user','item']"
   ]
  },
  {
   "cell_type": "code",
   "execution_count": null,
   "metadata": {},
   "outputs": [],
   "source": []
  },
  {
   "cell_type": "code",
   "execution_count": 958,
   "metadata": {
    "collapsed": true
   },
   "outputs": [],
   "source": [
    "\n",
    "df_full = pd.concat([df1, df2, df3,true_target], axis =1 )\n",
    "df_full['user_item'] = df_full.index\n",
    "df_full.columns = ['mf','user','item','true','user_item']\n"
   ]
  },
  {
   "cell_type": "code",
   "execution_count": 896,
   "metadata": {},
   "outputs": [
    {
     "data": {
      "text/html": [
       "<div>\n",
       "<style>\n",
       "    .dataframe thead tr:only-child th {\n",
       "        text-align: right;\n",
       "    }\n",
       "\n",
       "    .dataframe thead th {\n",
       "        text-align: left;\n",
       "    }\n",
       "\n",
       "    .dataframe tbody tr th {\n",
       "        vertical-align: top;\n",
       "    }\n",
       "</style>\n",
       "<table border=\"1\" class=\"dataframe\">\n",
       "  <thead>\n",
       "    <tr style=\"text-align: right;\">\n",
       "      <th></th>\n",
       "      <th>mf</th>\n",
       "      <th>user</th>\n",
       "      <th>item</th>\n",
       "      <th>true</th>\n",
       "      <th>user_item</th>\n",
       "    </tr>\n",
       "  </thead>\n",
       "  <tbody>\n",
       "    <tr>\n",
       "      <th>(0, 0)</th>\n",
       "      <td>4.263096</td>\n",
       "      <td>3.000000</td>\n",
       "      <td>3.759563</td>\n",
       "      <td>5</td>\n",
       "      <td>(0, 0)</td>\n",
       "    </tr>\n",
       "    <tr>\n",
       "      <th>(1, 1)</th>\n",
       "      <td>4.312568</td>\n",
       "      <td>4.479167</td>\n",
       "      <td>4.255319</td>\n",
       "      <td>4</td>\n",
       "      <td>(1, 1)</td>\n",
       "    </tr>\n",
       "    <tr>\n",
       "      <th>(2, 2)</th>\n",
       "      <td>4.066407</td>\n",
       "      <td>5.396342</td>\n",
       "      <td>4.815534</td>\n",
       "      <td>2</td>\n",
       "      <td>(2, 2)</td>\n",
       "    </tr>\n",
       "    <tr>\n",
       "      <th>(3, 3)</th>\n",
       "      <td>4.243171</td>\n",
       "      <td>4.941176</td>\n",
       "      <td>4.300000</td>\n",
       "      <td>5</td>\n",
       "      <td>(3, 3)</td>\n",
       "    </tr>\n",
       "    <tr>\n",
       "      <th>(4, 4)</th>\n",
       "      <td>4.265776</td>\n",
       "      <td>4.000000</td>\n",
       "      <td>4.205128</td>\n",
       "      <td>4</td>\n",
       "      <td>(4, 4)</td>\n",
       "    </tr>\n",
       "  </tbody>\n",
       "</table>\n",
       "</div>"
      ],
      "text/plain": [
       "              mf      user      item  true user_item\n",
       "(0, 0)  4.263096  3.000000  3.759563     5    (0, 0)\n",
       "(1, 1)  4.312568  4.479167  4.255319     4    (1, 1)\n",
       "(2, 2)  4.066407  5.396342  4.815534     2    (2, 2)\n",
       "(3, 3)  4.243171  4.941176  4.300000     5    (3, 3)\n",
       "(4, 4)  4.265776  4.000000  4.205128     4    (4, 4)"
      ]
     },
     "execution_count": 896,
     "metadata": {},
     "output_type": "execute_result"
    }
   ],
   "source": [
    "df_full_test = pd.concat([df1_test, df2_test, df3_test,true_target_test], axis =1 )\n",
    "df_full_test['user_item'] = df_full_test.index\n",
    "df_full_test.columns = ['mf','user','item','true','user_item']\n",
    "\n",
    "df_full_test.head()"
   ]
  },
  {
   "cell_type": "code",
   "execution_count": 994,
   "metadata": {},
   "outputs": [
    {
     "data": {
      "text/plain": [
       "147"
      ]
     },
     "execution_count": 994,
     "metadata": {},
     "output_type": "execute_result"
    }
   ],
   "source": [
    "#find overlapping user_item pairs\n",
    "overlap = []\n",
    "train_key = set(df_full.user_item.unique())\n",
    "test_key = set(df_full_test.user_item.unique())\n",
    "for tk in train_key.intersection(test_key):\n",
    "    overlap.append(tk)\n",
    "len(overlap)\n",
    "\n"
   ]
  },
  {
   "cell_type": "code",
   "execution_count": 1015,
   "metadata": {},
   "outputs": [],
   "source": [
    "uipair = list(overlap)\n",
    "\n",
    "overlap = [[x[0],x[1]] for x in uipair]"
   ]
  },
  {
   "cell_type": "code",
   "execution_count": 1001,
   "metadata": {},
   "outputs": [],
   "source": [
    "df_all = pd.concat([df_full,df_full_test],axis = 0)\n",
    "df_all['user_item'] = df_all.index\n"
   ]
  },
  {
   "cell_type": "code",
   "execution_count": 1012,
   "metadata": {},
   "outputs": [],
   "source": [
    "uipair = list(df_all['user_item'])\n",
    "\n",
    "tolist = [[x[0],x[1]] for x in uipair]\n",
    "df_all['user_item'] = tolist\n"
   ]
  },
  {
   "cell_type": "code",
   "execution_count": null,
   "metadata": {},
   "outputs": [],
   "source": []
  },
  {
   "cell_type": "code",
   "execution_count": null,
   "metadata": {},
   "outputs": [],
   "source": []
  },
  {
   "cell_type": "code",
   "execution_count": null,
   "metadata": {},
   "outputs": [],
   "source": []
  },
  {
   "cell_type": "code",
   "execution_count": 972,
   "metadata": {},
   "outputs": [
    {
     "data": {
      "text/plain": [
       "147"
      ]
     },
     "execution_count": 972,
     "metadata": {},
     "output_type": "execute_result"
    }
   ],
   "source": [
    "counter = 0\n",
    "train_key = set(df_full.user_item.unique())\n",
    "test_key = set(df_full_test.user_item.unique())\n",
    "for tk in train_key.intersection(test_key):\n",
    "    counter += 1\n",
    "counter\n"
   ]
  },
  {
   "cell_type": "markdown",
   "metadata": {},
   "source": [
    "#### Ensemble - logistic regression"
   ]
  },
  {
   "cell_type": "code",
   "execution_count": 898,
   "metadata": {
    "collapsed": true
   },
   "outputs": [],
   "source": [
    "from sklearn.linear_model import LogisticRegressionCV\n",
    "from sklearn.tree import DecisionTreeClassifier\n",
    "from sklearn.model_selection import cross_val_score\n",
    "#from sklearn.cross_validation import Bootstrap"
   ]
  },
  {
   "cell_type": "code",
   "execution_count": 899,
   "metadata": {
    "collapsed": true
   },
   "outputs": [],
   "source": [
    "df_full_test['user_item'] = df_full_test.index"
   ]
  },
  {
   "cell_type": "code",
   "execution_count": 1029,
   "metadata": {},
   "outputs": [],
   "source": [
    "df_train_X, df_test_X, df_train_y, df_test_y = train_test_split(df_all[['mf','user','item']], df_all['true'], test_size = 0.2)\n",
    "\n",
    "#df_train_X = df_full[['mf','user','item']]\n",
    "#df_train_y = df_full['true']\n",
    "#df_test_X = df_full_test[['mf','user','item']]\n",
    "#df_test_y = df_full_test['true']\n"
   ]
  },
  {
   "cell_type": "code",
   "execution_count": 979,
   "metadata": {},
   "outputs": [
    {
     "data": {
      "text/plain": [
       "LogisticRegressionCV(Cs=10, class_weight=None, cv=5, dual=False,\n",
       "           fit_intercept=True, intercept_scaling=1.0, max_iter=100,\n",
       "           multi_class='ovr', n_jobs=1, penalty='l2', random_state=None,\n",
       "           refit=True, scoring=None, solver='lbfgs', tol=0.0001, verbose=0)"
      ]
     },
     "execution_count": 979,
     "metadata": {},
     "output_type": "execute_result"
    }
   ],
   "source": [
    "model_lr = LogisticRegressionCV(cv=5)\n",
    "model_lr.fit(df_train_X, df_train_y)"
   ]
  },
  {
   "cell_type": "code",
   "execution_count": 980,
   "metadata": {},
   "outputs": [],
   "source": [
    "pred_lr = model_lr.predict(df_test_X)"
   ]
  },
  {
   "cell_type": "code",
   "execution_count": 981,
   "metadata": {},
   "outputs": [
    {
     "data": {
      "text/plain": [
       "1.244875244327138"
      ]
     },
     "execution_count": 981,
     "metadata": {},
     "output_type": "execute_result"
    }
   ],
   "source": [
    "np.sqrt(mean_squared_error(pred_lr, df_test_y))"
   ]
  },
  {
   "cell_type": "code",
   "execution_count": 982,
   "metadata": {},
   "outputs": [
    {
     "data": {
      "text/plain": [
       "[1.0048389677618963,\n",
       " 0.96869084480211387,\n",
       " 0.95368571043611716,\n",
       " 0.94748511747350261,\n",
       " 0.9394231414799592,\n",
       " 0.93468502829074696,\n",
       " 0.93627277722049496,\n",
       " 0.94031094018571904,\n",
       " 0.95391951513634954]"
      ]
     },
     "execution_count": 982,
     "metadata": {},
     "output_type": "execute_result"
    }
   ],
   "source": [
    "RMSE_dt = []\n",
    "for i in range(1,10):\n",
    "    model_dt = DecisionTreeRegressor(max_depth=i)\n",
    "    model_dt.fit(df_train_X, df_train_y)\n",
    "    prediction=model_dt.predict(df_test_X)\n",
    "    RMSE_dt.append(np.sqrt(mean_squared_error(prediction, df_test_y)))\n",
    "RMSE_dt"
   ]
  },
  {
   "cell_type": "code",
   "execution_count": 983,
   "metadata": {
    "collapsed": true
   },
   "outputs": [],
   "source": [
    "model_dt = DecisionTreeRegressor(max_depth=6, max_features=None,\n",
    "             max_leaf_nodes=None, min_impurity_decrease=0.0,\n",
    "             min_impurity_split=None, min_samples_leaf=1,\n",
    "             min_samples_split=3)\n",
    "model_dt.fit(df_train_X, df_train_y)\n",
    "prediction=model_dt.predict(df_test_X)"
   ]
  },
  {
   "cell_type": "code",
   "execution_count": 920,
   "metadata": {},
   "outputs": [
    {
     "data": {
      "text/html": [
       "<div>\n",
       "<style>\n",
       "    .dataframe thead tr:only-child th {\n",
       "        text-align: right;\n",
       "    }\n",
       "\n",
       "    .dataframe thead th {\n",
       "        text-align: left;\n",
       "    }\n",
       "\n",
       "    .dataframe tbody tr th {\n",
       "        vertical-align: top;\n",
       "    }\n",
       "</style>\n",
       "<table border=\"1\" class=\"dataframe\">\n",
       "  <thead>\n",
       "    <tr style=\"text-align: right;\">\n",
       "      <th></th>\n",
       "      <th>mf</th>\n",
       "      <th>user</th>\n",
       "      <th>item</th>\n",
       "    </tr>\n",
       "  </thead>\n",
       "  <tbody>\n",
       "    <tr>\n",
       "      <th>(2732, 104)</th>\n",
       "      <td>3.999884</td>\n",
       "      <td>1.6</td>\n",
       "      <td>4.260163</td>\n",
       "    </tr>\n",
       "    <tr>\n",
       "      <th>(5872, 673)</th>\n",
       "      <td>4.527906</td>\n",
       "      <td>3.8</td>\n",
       "      <td>4.307692</td>\n",
       "    </tr>\n",
       "    <tr>\n",
       "      <th>(478, 129)</th>\n",
       "      <td>4.223164</td>\n",
       "      <td>3.5</td>\n",
       "      <td>3.931818</td>\n",
       "    </tr>\n",
       "    <tr>\n",
       "      <th>(970, 203)</th>\n",
       "      <td>4.076831</td>\n",
       "      <td>4.0</td>\n",
       "      <td>4.028571</td>\n",
       "    </tr>\n",
       "    <tr>\n",
       "      <th>(636, 407)</th>\n",
       "      <td>4.931451</td>\n",
       "      <td>4.6</td>\n",
       "      <td>4.191781</td>\n",
       "    </tr>\n",
       "  </tbody>\n",
       "</table>\n",
       "</div>"
      ],
      "text/plain": [
       "                   mf  user      item\n",
       "(2732, 104)  3.999884   1.6  4.260163\n",
       "(5872, 673)  4.527906   3.8  4.307692\n",
       "(478, 129)   4.223164   3.5  3.931818\n",
       "(970, 203)   4.076831   4.0  4.028571\n",
       "(636, 407)   4.931451   4.6  4.191781"
      ]
     },
     "execution_count": 920,
     "metadata": {},
     "output_type": "execute_result"
    }
   ],
   "source": [
    "df_train_X.head()"
   ]
  },
  {
   "cell_type": "code",
   "execution_count": 984,
   "metadata": {},
   "outputs": [
    {
     "data": {
      "text/plain": [
       "array([ 0.        ,  0.86921437,  0.13078563])"
      ]
     },
     "execution_count": 984,
     "metadata": {},
     "output_type": "execute_result"
    }
   ],
   "source": [
    "model_dt.feature_importances_ "
   ]
  },
  {
   "cell_type": "code",
   "execution_count": null,
   "metadata": {
    "collapsed": true
   },
   "outputs": [],
   "source": []
  },
  {
   "cell_type": "code",
   "execution_count": 910,
   "metadata": {},
   "outputs": [
    {
     "data": {
      "text/plain": [
       "1.143251493813719"
      ]
     },
     "execution_count": 910,
     "metadata": {},
     "output_type": "execute_result"
    }
   ],
   "source": [
    "#prediction by feature importance\n",
    "pred_by_imp = df_test_X['item']*0.70955061 + df_test_X['user']*0 + df_test_X['mf']*0.29044939\n",
    "np.sqrt(mean_squared_error(pred_by_imp,df_test_y))"
   ]
  },
  {
   "cell_type": "code",
   "execution_count": 923,
   "metadata": {},
   "outputs": [
    {
     "data": {
      "text/plain": [
       "1.1784866859993197"
      ]
     },
     "execution_count": 923,
     "metadata": {},
     "output_type": "execute_result"
    }
   ],
   "source": [
    "pred_by_imp = df_test_X['mf']*0.24699709 + df_test_X['user']*0.31755736 + df_test_X['item']*0.43544554\n",
    "np.sqrt(mean_squared_error(pred_by_imp,df_test_y))"
   ]
  },
  {
   "cell_type": "code",
   "execution_count": 925,
   "metadata": {},
   "outputs": [
    {
     "data": {
      "text/plain": [
       "1.1838574003072546"
      ]
     },
     "execution_count": 925,
     "metadata": {},
     "output_type": "execute_result"
    }
   ],
   "source": [
    "pred_by_imp = df_test_X['item']*0.45799689 + df_test_X['user']*0.32836491 + df_test_X['mf']*0.2136382\n",
    "np.sqrt(mean_squared_error(pred_by_imp,df_test_y))"
   ]
  },
  {
   "cell_type": "code",
   "execution_count": 926,
   "metadata": {},
   "outputs": [
    {
     "data": {
      "text/plain": [
       "1.217395169811418"
      ]
     },
     "execution_count": 926,
     "metadata": {},
     "output_type": "execute_result"
    }
   ],
   "source": [
    "pred_by_imp = df_test_X['item']*0.39206743 + df_test_X['user']*0.43179998 + df_test_X['mf']*0.17613259\n",
    "np.sqrt(mean_squared_error(pred_by_imp,df_test_y))"
   ]
  },
  {
   "cell_type": "code",
   "execution_count": 927,
   "metadata": {},
   "outputs": [
    {
     "data": {
      "text/plain": [
       "1.1467731907356167"
      ]
     },
     "execution_count": 927,
     "metadata": {},
     "output_type": "execute_result"
    }
   ],
   "source": [
    "pred_by_imp = df_test_X['item']*0.5948879 + df_test_X['user']*0.13425015 + df_test_X['mf']*0.27086195\n",
    "np.sqrt(mean_squared_error(pred_by_imp,df_test_y))"
   ]
  },
  {
   "cell_type": "code",
   "execution_count": 928,
   "metadata": {},
   "outputs": [
    {
     "data": {
      "text/plain": [
       "1.1292095971685134"
      ]
     },
     "execution_count": 928,
     "metadata": {},
     "output_type": "execute_result"
    }
   ],
   "source": [
    "pred_by_imp = df_test_X['item']*0.2 + df_test_X['user']*0.1 + df_test_X['mf']*0.7\n",
    "np.sqrt(mean_squared_error(pred_by_imp,df_test_y))"
   ]
  },
  {
   "cell_type": "code",
   "execution_count": 985,
   "metadata": {},
   "outputs": [
    {
     "data": {
      "text/plain": [
       "1.0998715223023576"
      ]
     },
     "execution_count": 985,
     "metadata": {},
     "output_type": "execute_result"
    }
   ],
   "source": [
    "pred_by_imp = df_test_X['item']*0.15 + df_test_X['user']*0.05 + df_test_X['mf']*0.8\n",
    "np.sqrt(mean_squared_error(pred_by_imp,df_test_y))"
   ]
  },
  {
   "cell_type": "code",
   "execution_count": 986,
   "metadata": {},
   "outputs": [
    {
     "data": {
      "text/plain": [
       "1.0870169625263582"
      ]
     },
     "execution_count": 986,
     "metadata": {},
     "output_type": "execute_result"
    }
   ],
   "source": [
    "pred_by_imp = df_test_X['item']*0.25 + df_test_X['user']*0.05 + df_test_X['mf']*0.7\n",
    "np.sqrt(mean_squared_error(pred_by_imp,df_test_y))"
   ]
  },
  {
   "cell_type": "markdown",
   "metadata": {},
   "source": [
    "Gradient Boosting"
   ]
  },
  {
   "cell_type": "code",
   "execution_count": 351,
   "metadata": {
    "collapsed": true
   },
   "outputs": [],
   "source": [
    "from sklearn.metrics import mean_absolute_error\n",
    "import sklearn.ensemble"
   ]
  },
  {
   "cell_type": "code",
   "execution_count": 1030,
   "metadata": {
    "collapsed": true
   },
   "outputs": [],
   "source": [
    "n_est = 100\n",
    "\n",
    "tuned_parameters = {\n",
    "    \"n_estimators\": [ n_est ],\n",
    "    \"max_depth\" : [3,4,5,6,7,8,9 ],\n",
    "    \"learning_rate\": [ 0.03,0.05,0.1,0.2,0.25 ],\n",
    "    \"min_samples_split\" : [ 2,3,4 ]\n",
    "}\n",
    "\n",
    "gbr = sklearn.ensemble.GradientBoostingRegressor(criterion='mse')\n",
    "clf = sklearn.model_selection.GridSearchCV(gbr, cv=5, param_grid=tuned_parameters,\n",
    "        scoring='neg_mean_absolute_error')\n",
    "clf.fit(df_train_X, df_train_y) \n",
    "best = clf.best_estimator_"
   ]
  },
  {
   "cell_type": "code",
   "execution_count": 1031,
   "metadata": {},
   "outputs": [
    {
     "data": {
      "text/plain": [
       "GradientBoostingRegressor(alpha=0.9, criterion='mse', init=None,\n",
       "             learning_rate=0.2, loss='ls', max_depth=5, max_features=None,\n",
       "             max_leaf_nodes=None, min_impurity_decrease=0.0,\n",
       "             min_impurity_split=None, min_samples_leaf=1,\n",
       "             min_samples_split=3, min_weight_fraction_leaf=0.0,\n",
       "             n_estimators=100, presort='auto', random_state=None,\n",
       "             subsample=1.0, verbose=0, warm_start=False)"
      ]
     },
     "execution_count": 1031,
     "metadata": {},
     "output_type": "execute_result"
    }
   ],
   "source": [
    "best"
   ]
  },
  {
   "cell_type": "code",
   "execution_count": 1032,
   "metadata": {},
   "outputs": [
    {
     "data": {
      "text/plain": [
       "GradientBoostingRegressor(alpha=0.9, criterion='mse', init=None,\n",
       "             learning_rate=0.2, loss='ls', max_depth=5, max_features=None,\n",
       "             max_leaf_nodes=None, min_impurity_decrease=0.0,\n",
       "             min_impurity_split=None, min_samples_leaf=1,\n",
       "             min_samples_split=3, min_weight_fraction_leaf=0.0,\n",
       "             n_estimators=100, presort='auto', random_state=None,\n",
       "             subsample=1.0, verbose=0, warm_start=False)"
      ]
     },
     "execution_count": 1032,
     "metadata": {},
     "output_type": "execute_result"
    }
   ],
   "source": [
    "gb = sklearn.ensemble.GradientBoostingRegressor(alpha=0.9, criterion='mse', init=None,\n",
    "             learning_rate=0.2, loss='ls', max_depth=5, max_features=None,\n",
    "             max_leaf_nodes=None, min_impurity_decrease=0.0,\n",
    "             min_impurity_split=None, min_samples_leaf=1,\n",
    "             min_samples_split=3, min_weight_fraction_leaf=0.0,\n",
    "             n_estimators=100, presort='auto', random_state=None,\n",
    "             subsample=1.0, verbose=0, warm_start=False)\n",
    "gb.fit(df_train_X,df_train_y)"
   ]
  },
  {
   "cell_type": "code",
   "execution_count": 1037,
   "metadata": {},
   "outputs": [
    {
     "data": {
      "text/plain": [
       "0.93110538973769441"
      ]
     },
     "execution_count": 1037,
     "metadata": {},
     "output_type": "execute_result"
    }
   ],
   "source": [
    "gb = sklearn.ensemble.GradientBoostingRegressor()\n",
    "gb.fit(df_train_X,df_train_y)\n",
    "gb_default_pred = gb.predict(df_test_X)\n",
    "np.sqrt(mean_squared_error(df_test_y,gb_default_pred))"
   ]
  },
  {
   "cell_type": "code",
   "execution_count": 1033,
   "metadata": {},
   "outputs": [
    {
     "name": "stdout",
     "output_type": "stream",
     "text": [
      "RMSE:  0.93069121102\n"
     ]
    },
    {
     "data": {
      "image/png": "[encoded data removed]",
      "text/plain": [
       "<matplotlib.figure.Figure at 0x1a57487ac8>"
      ]
     },
     "metadata": {},
     "output_type": "display_data"
    }
   ],
   "source": [
    "n_est = 100\n",
    "test_score = np.zeros(n_est, dtype=np.float64)\n",
    "y_pred_list = []\n",
    "#rmse_gb = np.zeros(n_est, dtype=np.float64)\n",
    "\n",
    "test_score = np.zeros(n_est, dtype=np.float64)\n",
    "relative_error = np.zeros(n_est, dtype=np.float64)\n",
    "\n",
    "train_score = np.sqrt(gb.train_score_)\n",
    "for i, y_pred in enumerate(gb.staged_predict(df_test_X)):\n",
    "    test_score[i] = np.sqrt(mean_squared_error(df_test_y, y_pred))\n",
    "\n",
    "plt.figure(figsize=(15, 4))\n",
    "plt.subplot(1, 2, 1)\n",
    "plt.plot(np.arange(n_est), train_score, 'blue', label='Training Set Error')\n",
    "plt.plot(np.arange(n_est), test_score, 'orange', label='Test Set Error')\n",
    "plt.legend(loc='upper right')\n",
    "plt.xlabel('Boosting Iterations')\n",
    "plt.ylabel('RMSE')\n",
    "plt.title(\"RMSE as Iterations Increases\")\n",
    "plt.savefig(\"GB_iterations\")\n",
    "\n",
    "print(\"RMSE: \", np.min(test_score))\n",
    "\n",
    "\n",
    "\n"
   ]
  },
  {
   "cell_type": "code",
   "execution_count": 1034,
   "metadata": {},
   "outputs": [
    {
     "data": {
      "text/plain": [
       "0.93271368391507381"
      ]
     },
     "execution_count": 1034,
     "metadata": {},
     "output_type": "execute_result"
    }
   ],
   "source": [
    "pred_gb = gb.predict(df_test_X)\n",
    "np.sqrt(mean_squared_error(df_test_y, pred_gb))"
   ]
  },
  {
   "cell_type": "code",
   "execution_count": 1035,
   "metadata": {},
   "outputs": [
    {
     "data": {
      "text/plain": [
       "23"
      ]
     },
     "execution_count": 1035,
     "metadata": {},
     "output_type": "execute_result"
    }
   ],
   "source": [
    "np.argmin(test_score)"
   ]
  },
  {
   "cell_type": "code",
   "execution_count": 669,
   "metadata": {
    "collapsed": true
   },
   "outputs": [],
   "source": [
    "real_test_score = []\n",
    "for i, y_pred in enumerate(gb.staged_predict(df_test_X)):\n",
    "    real_test_score.append(np.sqrt(mean_squared_error(df_test_y, y_pred)))"
   ]
  },
  {
   "cell_type": "code",
   "execution_count": 672,
   "metadata": {
    "collapsed": true
   },
   "outputs": [],
   "source": [
    "from sklearn.tree import DecisionTreeRegressor"
   ]
  },
  {
   "cell_type": "code",
   "execution_count": 674,
   "metadata": {},
   "outputs": [
    {
     "data": {
      "text/plain": [
       "DecisionTreeRegressor(criterion='mse', max_depth=5, max_features=None,\n",
       "           max_leaf_nodes=None, min_impurity_decrease=0.0,\n",
       "           min_impurity_split=None, min_samples_leaf=1,\n",
       "           min_samples_split=3, min_weight_fraction_leaf=0.0,\n",
       "           presort=False, random_state=None, splitter='best')"
      ]
     },
     "execution_count": 674,
     "metadata": {},
     "output_type": "execute_result"
    }
   ],
   "source": [
    "model_dt = DecisionTreeRegressor(max_depth=5,min_samples_leaf=1,min_samples_split=3 )\n",
    "model_dt.fit(df_full[['mf','user','item']],df_full['true'])\n"
   ]
  },
  {
   "cell_type": "code",
   "execution_count": 675,
   "metadata": {
    "collapsed": true
   },
   "outputs": [],
   "source": [
    "dt_pred = model_dt.predict(df_full_test[['mf','user','item']])"
   ]
  },
  {
   "cell_type": "code",
   "execution_count": 676,
   "metadata": {},
   "outputs": [
    {
     "data": {
      "text/plain": [
       "1.3516725309812263"
      ]
     },
     "execution_count": 676,
     "metadata": {},
     "output_type": "execute_result"
    }
   ],
   "source": [
    "np.sqrt(mean_squared_error(df_full_test['true'], dt_pred))"
   ]
  },
  {
   "cell_type": "markdown",
   "metadata": {},
   "source": [
    "Random Forest"
   ]
  },
  {
   "cell_type": "code",
   "execution_count": 681,
   "metadata": {
    "collapsed": true
   },
   "outputs": [],
   "source": [
    "from sklearn.ensemble import RandomForestRegressor"
   ]
  },
  {
   "cell_type": "code",
   "execution_count": 703,
   "metadata": {},
   "outputs": [
    {
     "data": {
      "text/plain": [
       "GridSearchCV(cv=5, error_score='raise',\n",
       "       estimator=RandomForestRegressor(bootstrap=True, criterion='mse', max_depth=None,\n",
       "           max_features='auto', max_leaf_nodes=None,\n",
       "           min_impurity_decrease=0.0, min_impurity_split=None,\n",
       "           min_samples_leaf=1, min_samples_split=2,\n",
       "           min_weight_fraction_leaf=0.0, n_estimators=10, n_jobs=1,\n",
       "           oob_score=False, random_state=None, verbose=0, warm_start=False),\n",
       "       fit_params=None, iid=True, n_jobs=1,\n",
       "       param_grid={'n_estimators': [50, 100, 200], 'max_depth': [3, 4, 5, 6, 7], 'min_samples_leaf': [1, 2, 3], 'min_samples_split': [2, 3, 4]},\n",
       "       pre_dispatch='2*n_jobs', refit=True, return_train_score=True,\n",
       "       scoring='neg_mean_absolute_error', verbose=0)"
      ]
     },
     "execution_count": 703,
     "metadata": {},
     "output_type": "execute_result"
    }
   ],
   "source": [
    "n_est = 50\n",
    "\n",
    "tuned_parameters = {\n",
    "    \"n_estimators\": [ 50,100,200 ],\n",
    "    \"max_depth\" : [3,4,5,6,7 ],\n",
    "    \"min_samples_leaf\": [1,2,3],\n",
    "    \"min_samples_split\" : [ 2,3,4 ]\n",
    "}\n",
    "\n",
    "rf = RandomForestRegressor(criterion='mse')\n",
    "rfcv = sklearn.model_selection.GridSearchCV(rf, cv=5, param_grid=tuned_parameters,\n",
    "        scoring='neg_mean_absolute_error')\n",
    "rfcv.fit(df_train_X, df_train_y) \n"
   ]
  },
  {
   "cell_type": "code",
   "execution_count": 705,
   "metadata": {},
   "outputs": [
    {
     "data": {
      "text/plain": [
       "RandomForestRegressor(bootstrap=True, criterion='mse', max_depth=7,\n",
       "           max_features='auto', max_leaf_nodes=None,\n",
       "           min_impurity_decrease=0.0, min_impurity_split=None,\n",
       "           min_samples_leaf=3, min_samples_split=4,\n",
       "           min_weight_fraction_leaf=0.0, n_estimators=100, n_jobs=1,\n",
       "           oob_score=False, random_state=None, verbose=0, warm_start=False)"
      ]
     },
     "execution_count": 705,
     "metadata": {},
     "output_type": "execute_result"
    }
   ],
   "source": [
    "best_rf = rfcv.best_estimator_\n",
    "best_rf"
   ]
  },
  {
   "cell_type": "code",
   "execution_count": 706,
   "metadata": {},
   "outputs": [
    {
     "data": {
      "text/plain": [
       "RandomForestRegressor(bootstrap=True, criterion='mse', max_depth=7,\n",
       "           max_features='auto', max_leaf_nodes=None,\n",
       "           min_impurity_decrease=0.0, min_impurity_split=None,\n",
       "           min_samples_leaf=3, min_samples_split=4,\n",
       "           min_weight_fraction_leaf=0.0, n_estimators=100, n_jobs=1,\n",
       "           oob_score=False, random_state=None, verbose=0, warm_start=False)"
      ]
     },
     "execution_count": 706,
     "metadata": {},
     "output_type": "execute_result"
    }
   ],
   "source": [
    "model_rf = RandomForestRegressor(bootstrap=True, criterion='mse', max_depth=7,\n",
    "           max_features='auto', max_leaf_nodes=None,\n",
    "           min_impurity_decrease=0.0, min_impurity_split=None,\n",
    "           min_samples_leaf=3, min_samples_split=4,\n",
    "           min_weight_fraction_leaf=0.0, n_estimators=100, n_jobs=1,\n",
    "           oob_score=False, random_state=None, verbose=0, warm_start=False)\n",
    "model_rf.fit(df_train_X,df_train_y)"
   ]
  },
  {
   "cell_type": "code",
   "execution_count": 707,
   "metadata": {
    "collapsed": true
   },
   "outputs": [],
   "source": [
    "pred_rf = model_rf.predict(df_test_X)"
   ]
  },
  {
   "cell_type": "code",
   "execution_count": 708,
   "metadata": {},
   "outputs": [
    {
     "data": {
      "text/plain": [
       "1.3517061917827706"
      ]
     },
     "execution_count": 708,
     "metadata": {},
     "output_type": "execute_result"
    }
   ],
   "source": [
    "np.sqrt(mean_squared_error(df_full_test['true'], pred_rf))"
   ]
  },
  {
   "cell_type": "code",
   "execution_count": null,
   "metadata": {
    "collapsed": true
   },
   "outputs": [],
   "source": []
  }
 ],
 "metadata": {
  "kernelspec": {
   "display_name": "Python 3",
   "language": "python",
   "name": "python3"
  },
  "language_info": {
   "codemirror_mode": {
    "name": "ipython",
    "version": 3
   },
   "file_extension": ".py",
   "mimetype": "text/x-python",
   "name": "python",
   "nbconvert_exporter": "python",
   "pygments_lexer": "ipython3",
   "version": "3.6.2"
  }
 },
 "nbformat": 4,
 "nbformat_minor": 2
}
