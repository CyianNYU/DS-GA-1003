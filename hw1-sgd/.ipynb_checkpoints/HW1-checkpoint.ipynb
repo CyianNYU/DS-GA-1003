{
 "cells": [
  {
   "cell_type": "code",
   "execution_count": 1,
   "metadata": {},
   "outputs": [
    {
     "name": "stderr",
     "output_type": "stream",
     "text": [
      "/Users/cyian/anaconda3/lib/python3.6/site-packages/sklearn/cross_validation.py:41: DeprecationWarning: This module was deprecated in version 0.18 in favor of the model_selection module into which all the refactored classes and functions are moved. Also note that the interface of the new CV iterators are different from that of this module. This module will be removed in 0.20.\n",
      "  \"This module will be removed in 0.20.\", DeprecationWarning)\n"
     ]
    }
   ],
   "source": [
    "import pandas as pd\n",
    "import logging\n",
    "import numpy as np\n",
    "import sys\n",
    "import matplotlib.pyplot as plt\n",
    "from sklearn.cross_validation import train_test_split"
   ]
  },
  {
   "cell_type": "code",
   "execution_count": 2,
   "metadata": {},
   "outputs": [],
   "source": [
    "### Assignment Owner: Tian Wang\n",
    "\n",
    "#######################################\n",
    "#### Normalization\n",
    "\n",
    "\n",
    "def feature_normalization(train, test):\n",
    "    \"\"\"Rescale the data so that each feature in the training set is in\n",
    "    the interval [0,1], and apply the same transformations to the test\n",
    "    set, using the statistics computed on the training set.\n",
    "\n",
    "    Args:\n",
    "        train - training set, a 2D numpy array of size (num_instances, num_features)\n",
    "        test  - test set, a 2D numpy array of size (num_instances, num_features)\n",
    "    Returns:\n",
    "        train_normalized - training set after normalization\n",
    "        test_normalized  - test set after normalization\n",
    "\n",
    "    \"\"\"\n",
    "    # TODO\n",
    "    train_normalized = np.zeros((train.shape[0],train.shape[1]))\n",
    "    test_normalized = np.zeros((test.shape[0],test.shape[1]))\n",
    "    for idx in range(train.shape[1]):\n",
    "        mean_val = np.mean(train[:,idx], axis = 0)\n",
    "        max_val = np.max(train[:,idx], axis = 0)\n",
    "        min_val = np.min(train[:,idx], axis = 0)\n",
    "        \n",
    "        if max_val > 1 or min_val<0 and (max_val != min_val):\n",
    "            train_normalized[:,idx] = (train[:,idx] - min_val)/(max_val - min_val)\n",
    "            test_normalized[:,idx] = (test[:,idx] - min_val)/(max_val - min_val)\n",
    "        else:\n",
    "            train_normalized[:,idx] = train[:,idx]\n",
    "            test_normalized[:,idx] = test[:,idx]\n",
    "        \n",
    "    return (train_normalized, test_normalized)\n",
    "        "
   ]
  },
  {
   "cell_type": "code",
   "execution_count": 3,
   "metadata": {
    "collapsed": true
   },
   "outputs": [],
   "source": [
    "df = pd.read_csv('data.csv', delimiter=',')\n",
    "X = df.values[:,:-1]\n",
    "y = df.values[:,-1]\n",
    "\n",
    "X_train, X_test, y_train, y_test = train_test_split(X, y, test_size =100, random_state=10)\n",
    "\n",
    "X_train, X_test = feature_normalization(X_train, X_test)\n",
    "X_train = np.hstack((X_train, np.ones((X_train.shape[0], 1))))  # Add bias term\n",
    "X_test = np.hstack((X_test, np.ones((X_test.shape[0], 1)))) # Add bias term"
   ]
  },
  {
   "cell_type": "code",
   "execution_count": 4,
   "metadata": {
    "collapsed": true
   },
   "outputs": [],
   "source": [
    "########################################\n",
    "#### The square loss function\n",
    "\n",
    "def compute_square_loss(X, y, theta):\n",
    "    \"\"\"\n",
    "    Given a set of X, y, theta, compute the square loss for predicting y with X*theta\n",
    "\n",
    "    Args:\n",
    "        X - the feature vector, 2D numpy array of size (num_instances, num_features)\n",
    "        y - the label vector, 1D numpy array of size (num_instances)\n",
    "        theta - the parameter vector, 1D array of size (num_features)\n",
    "\n",
    "    Returns:\n",
    "        loss - the square loss, scalar\n",
    "    \"\"\"\n",
    "    loss = 0 #initialize the square_loss\n",
    "    #TODO\n",
    "    m = X.shape[0]\n",
    "    return 1/m*(np.dot(y.transpose(),y)-2*np.dot(np.dot(y.transpose(),X),theta)+\n",
    "               np.dot(theta.transpose(),np.dot(X.transpose(), np.dot(X, theta))))\n"
   ]
  },
  {
   "cell_type": "code",
   "execution_count": 5,
   "metadata": {},
   "outputs": [],
   "source": [
    "########################################\n",
    "### compute the gradient of square loss function\n",
    "def compute_square_loss_gradient(X, y, theta):\n",
    "    \"\"\"\n",
    "    Compute gradient of the square loss (as defined in compute_square_loss), at the point theta.\n",
    "\n",
    "    Args:\n",
    "        X - the feature vector, 2D numpy array of size (num_instances, num_features)\n",
    "        y - the label vector, 1D numpy array of size (num_instances)\n",
    "        theta - the parameter vector, 1D numpy array of size (num_features)\n",
    "\n",
    "    Returns:\n",
    "        grad - gradient vector, 1D numpy array of size (num_features)\n",
    "    \"\"\"\n",
    "    #TODO\n",
    "    m = X.shape[0]\n",
    "    return 2/m*(-np.dot(X.transpose(), y) + np.dot(np.dot(X.transpose(),X), theta))\n",
    "    \n"
   ]
  },
  {
   "cell_type": "code",
   "execution_count": 6,
   "metadata": {
    "collapsed": true
   },
   "outputs": [],
   "source": [
    "###########################################\n",
    "### Gradient Checker\n",
    "#Getting the gradient calculation correct is often the trickiest part\n",
    "#of any gradient-based optimization algorithm.  Fortunately, it's very\n",
    "#easy to check that the gradient calculation is correct using the\n",
    "#definition of gradient.\n",
    "#See http://ufldl.stanford.edu/wiki/index.php/Gradient_checking_and_advanced_optimization\n",
    "def grad_checker(X, y, theta, epsilon=0.01, tolerance=1e-4):\n",
    "    \"\"\"Implement Gradient Checker\n",
    "    Check that the function compute_square_loss_gradient returns the\n",
    "    correct gradient for the given X, y, and theta.\n",
    "\n",
    "    Let d be the number of features. Here we numerically estimate the\n",
    "    gradient by approximating the directional derivative in each of\n",
    "    the d coordinate directions:\n",
    "    (e_1 = (1,0,0,...,0), e_2 = (0,1,0,...,0), ..., e_d = (0,...,0,1)\n",
    "\n",
    "    The approximation for the directional derivative of J at the point\n",
    "    theta in the direction e_i is given by:\n",
    "    ( J(theta + epsilon * e_i) - J(theta - epsilon * e_i) ) / (2*epsilon).\n",
    "\n",
    "    We then look at the Euclidean distance between the gradient\n",
    "    computed using this approximation and the gradient computed by\n",
    "    compute_square_loss_gradient(X, y, theta).  If the Euclidean\n",
    "    distance exceeds tolerance, we say the gradient is incorrect.\n",
    "\n",
    "    Args:\n",
    "        X - the feature vector, 2D numpy array of size (num_instances, num_features)\n",
    "        y - the label vector, 1D numpy array of size (num_instances)\n",
    "        theta - the parameter vector, 1D numpy array of size (num_features)\n",
    "        epsilon - the epsilon used in approximation\n",
    "        tolerance - the tolerance error\n",
    "\n",
    "    Return:\n",
    "        A boolean value indicate whether the gradient is correct or not\n",
    "\n",
    "    \"\"\"\n",
    "    true_gradient = compute_square_loss_gradient(X, y, theta) #the true gradient\n",
    "    num_features = theta.shape[0]\n",
    "    approx_grad = np.zeros(num_features) #Initialize the gradient we approximate\n",
    "    #TODO\n",
    "    for i in range(num_features):\n",
    "        e_i = np.zeros(num_features)\n",
    "        e_i[i] = 1\n",
    "        approx_grad[i] = (compute_square_loss(X, y, theta+epsilon*e_i)-compute_square_loss(X, y, theta-epsilon*e_i))/(2*epsilon)\n",
    "    distance = np.linalg.norm(approx_grad-true_gradient.transpose())\n",
    "    if distance > tolerance:\n",
    "        return False\n",
    "    return True\n"
   ]
  },
  {
   "cell_type": "code",
   "execution_count": 7,
   "metadata": {
    "collapsed": true
   },
   "outputs": [],
   "source": [
    "#################################################\n",
    "### Generic Gradient Checker\n",
    "def generic_gradient_checker(X, y, theta, objective_func, gradient_func, epsilon=0.01, tolerance=1e-4):\n",
    "    \"\"\"\n",
    "    The functions takes objective_func and gradient_func as parameters. And check whether gradient_func(X, y, theta) returned\n",
    "    the true gradient for objective_func(X, y, theta).\n",
    "    Eg: In LSR, the objective_func = compute_square_loss, and gradient_func = compute_square_loss_gradient\n",
    "    \"\"\"\n",
    "    #TODO\n",
    "    true_gradient = gradient_func(X,y,theta)\n",
    "    num_features = theta.shape[0]\n",
    "    approx_grad = np.zeros(num_features) #Initialize the gradient we approximate\n",
    "    for i in range(num_features):\n",
    "        e_i = np.zeros(num_features)\n",
    "        e_i[i] = 1\n",
    "        approx_grad[i] = (objective_func(X, y, theta+epsilon*e_i)-objective_func(X, y, theta-epsilon*e_i))/(2*epsilon)\n",
    "    distance = np.linalg.norm(approx_grad-true_gradient.transpose())\n",
    "    if distance > tolerance:\n",
    "        return False\n",
    "    return True"
   ]
  },
  {
   "cell_type": "code",
   "execution_count": 8,
   "metadata": {},
   "outputs": [],
   "source": [
    "####################################\n",
    "#### Batch Gradient Descent\n",
    "def batch_grad_descent(X, y, alpha=0.1, num_iter=1000, check_gradient=False):\n",
    "    \"\"\"\n",
    "    In this question you will implement batch gradient descent to\n",
    "    minimize the square loss objective\n",
    "\n",
    "    Args:\n",
    "        X - the feature vector, 2D numpy array of size (num_instances, num_features)\n",
    "        y - the label vector, 1D numpy array of size (num_instances)\n",
    "        alpha - step size in gradient descent\n",
    "        num_iter - number of iterations to run\n",
    "        check_gradient - a boolean value indicating whether checking the gradient when updating\n",
    "\n",
    "    Returns:\n",
    "        theta_hist - store the the history of parameter vector in iteration, 2D numpy array of size (num_iter+1, num_features)\n",
    "                    for instance, theta in iteration 0 should be theta_hist[0], theta in ieration (num_iter) is theta_hist[-1]\n",
    "        loss_hist - the history of objective function vector, 1D numpy array of size (num_iter+1)\n",
    "    \"\"\"\n",
    "    num_instances, num_features = X.shape[0], X.shape[1]\n",
    "    theta_hist = np.zeros((num_iter+1, num_features))  #Initialize theta_hist\n",
    "    loss_hist = np.zeros(num_iter+1) #initialize loss_hist\n",
    "    theta = np.zeros(num_features) #initialize theta\n",
    "    #TODO\n",
    "    theta_hist[0] = theta\n",
    "    loss_hist[0] = compute_square_loss(X,y,theta)\n",
    "    for i in range(num_iter):\n",
    "        if check_gradient and (not grad_checker(X,y,theta_hist[i])):\n",
    "            return False\n",
    "        elif (not check_gradient) or (check_gradient and grad_checker(X,y,theta_hist[i])):\n",
    "            grad = compute_square_loss_gradient(X,y,theta_hist[i])\n",
    "            loss = compute_square_loss(X,y,theta_hist[i])\n",
    "            theta_hist[i+1] = theta_hist[i]-alpha*grad\n",
    "            loss_hist[i+1] = loss\n",
    "    if check_gradient and (not grad_checker(X,y,theta_hist[num_iter])):\n",
    "        return False\n",
    "    return (theta_hist, loss_hist)"
   ]
  },
  {
   "cell_type": "code",
   "execution_count": 9,
   "metadata": {},
   "outputs": [
    {
     "data": {
      "image/png": "[encoded data removed]",
      "text/plain": [
       "<matplotlib.figure.Figure at 0x11630ec18>"
      ]
     },
     "metadata": {},
     "output_type": "display_data"
    }
   ],
   "source": [
    "import matplotlib.pyplot as plt\n",
    "%matplotlib inline  \n",
    "plot_mat = []\n",
    "legend_list = []\n",
    "alpha_list = [0.5, 0.1, 0.05, 0.01]\n",
    "for idx in alpha_list:\n",
    "    temp = batch_grad_descent(X_train,y_train,alpha=idx, num_iter=1000, check_gradient=True)\n",
    "    if isinstance(temp, tuple):\n",
    "        legend_list.append(idx)\n",
    "        theta_h, loss_h = batch_grad_descent(X_train,y_train,alpha=idx, num_iter=1000, check_gradient=True)\n",
    "        plot_mat.append(loss_h)\n",
    "for i in range(len(plot_mat)):\n",
    "    plt.plot(plot_mat[i])\n",
    "plt.xlabel(\"Instances\")\n",
    "plt.ylabel('Squared Loss')\n",
    "plt.legend(legend_list)\n",
    "plt.show()"
   ]
  },
  {
   "cell_type": "code",
   "execution_count": 10,
   "metadata": {
    "collapsed": true
   },
   "outputs": [],
   "source": [
    "####################################\n",
    "###Q2.4b: Implement backtracking line search in batch_gradient_descent\n",
    "###Check http://en.wikipedia.org/wiki/Backtracking_line_search for details\n",
    "#TODO"
   ]
  },
  {
   "cell_type": "code",
   "execution_count": 11,
   "metadata": {},
   "outputs": [
    {
     "ename": "NameError",
     "evalue": "name 'theta' is not defined",
     "output_type": "error",
     "traceback": [
      "\u001b[0;31m---------------------------------------------------------------------------\u001b[0m",
      "\u001b[0;31mNameError\u001b[0m                                 Traceback (most recent call last)",
      "\u001b[0;32m<ipython-input-11-7da0ef93f7c1>\u001b[0m in \u001b[0;36m<module>\u001b[0;34m()\u001b[0m\n\u001b[0;32m----> 1\u001b[0;31m \u001b[0mcompute_square_loss_gradient\u001b[0m\u001b[0;34m(\u001b[0m\u001b[0mX\u001b[0m\u001b[0;34m,\u001b[0m\u001b[0my\u001b[0m\u001b[0;34m,\u001b[0m\u001b[0mtheta\u001b[0m\u001b[0;34m)\u001b[0m\u001b[0;34m.\u001b[0m\u001b[0mshape\u001b[0m\u001b[0;34m\u001b[0m\u001b[0m\n\u001b[0m",
      "\u001b[0;31mNameError\u001b[0m: name 'theta' is not defined"
     ]
    }
   ],
   "source": [
    "compute_square_loss_gradient(X,y,theta).shape"
   ]
  },
  {
   "cell_type": "code",
   "execution_count": 12,
   "metadata": {
    "collapsed": true
   },
   "outputs": [],
   "source": [
    "###################################################\n",
    "### Compute the gradient of Regularized Batch Gradient Descent\n",
    "def compute_regularized_square_loss_gradient(X, y, theta, lambda_reg=1):\n",
    "    \"\"\"\n",
    "    Compute the gradient of L2-regularized square loss function given X, y and theta\n",
    "\n",
    "    Args:\n",
    "        X - the feature vector, 2D numpy array of size (num_instances, num_features)\n",
    "        y - the label vector, 1D numpy array of size (num_instances)\n",
    "        theta - the parameter vector, 1D numpy array of size (num_features)\n",
    "        lambda_reg - the regularization coefficient\n",
    "\n",
    "    Returns:\n",
    "        grad - gradient vector, 1D numpy array of size (num_features)\n",
    "    \"\"\"\n",
    "    #TODO\n",
    "    m = X.shape[0]\n",
    "    return 2/m*(-np.matmul(X.transpose(), y) + np.matmul(X.transpose(), np.matmul(X,theta)))+2*lambda_reg*theta"
   ]
  },
  {
   "cell_type": "code",
   "execution_count": 13,
   "metadata": {},
   "outputs": [
    {
     "ename": "NameError",
     "evalue": "name 'regularized_grad_descent' is not defined",
     "output_type": "error",
     "traceback": [
      "\u001b[0;31m---------------------------------------------------------------------------\u001b[0m",
      "\u001b[0;31mNameError\u001b[0m                                 Traceback (most recent call last)",
      "\u001b[0;32m<ipython-input-13-eb147cab9159>\u001b[0m in \u001b[0;36m<module>\u001b[0;34m()\u001b[0m\n\u001b[0;32m----> 1\u001b[0;31m \u001b[0mregularized_grad_descent\u001b[0m\u001b[0;34m(\u001b[0m\u001b[0mX_train\u001b[0m\u001b[0;34m,\u001b[0m \u001b[0my_train\u001b[0m\u001b[0;34m,\u001b[0m \u001b[0malpha\u001b[0m\u001b[0;34m=\u001b[0m \u001b[0;36m0.25\u001b[0m\u001b[0;34m)\u001b[0m\u001b[0;34m\u001b[0m\u001b[0m\n\u001b[0m",
      "\u001b[0;31mNameError\u001b[0m: name 'regularized_grad_descent' is not defined"
     ]
    }
   ],
   "source": [
    " regularized_grad_descent(X_train, y_train, alpha= 0.25)"
   ]
  },
  {
   "cell_type": "code",
   "execution_count": 14,
   "metadata": {
    "collapsed": true
   },
   "outputs": [],
   "source": [
    "###################################################\n",
    "### Batch Gradient Descent with regularization term\n",
    "def regularized_grad_descent(X, y, alpha=0.1, lambda_reg=1, num_iter=1000):\n",
    "    \"\"\"\n",
    "    Args:\n",
    "        X - the feature vector, 2D numpy array of size (num_instances, num_features)\n",
    "        y - the label vector, 1D numpy array of size (num_instances)\n",
    "        alpha - step size in gradient descent\n",
    "        lambda_reg - the regularization coefficient\n",
    "        numIter - number of iterations to run\n",
    "\n",
    "    Returns:\n",
    "        theta_hist - the history of parameter vector, 2D numpy array of size (num_iter+1, num_features)\n",
    "        loss_hist - the history of loss function without the regularization term, 1D numpy array.\n",
    "    \"\"\"\n",
    "    (num_instances, num_features) = X.shape\n",
    "    theta = np.zeros(num_features) #Initialize theta\n",
    "    theta_hist = np.zeros((num_iter+1, num_features))  #Initialize theta_hist\n",
    "    loss_hist = np.zeros(num_iter+1) #Initialize loss_hist\n",
    "    #TODO\n",
    "    theta_hist[0] = theta\n",
    "    loss_hist[0] = compute_square_loss(X,y,theta)\n",
    "    for i in range(num_iter):\n",
    "        grad = compute_regularized_square_loss_gradient(X, y, theta_hist[i], lambda_reg)\n",
    "        theta_hist[i+1] = theta_hist[i]-alpha*grad\n",
    "        loss = compute_square_loss(X,y,theta_hist[i+1])\n",
    "        loss_hist[i+1] = loss\n",
    "    return (theta_hist, loss_hist)"
   ]
  },
  {
   "cell_type": "code",
   "execution_count": 15,
   "metadata": {},
   "outputs": [],
   "source": [
    "#############################################\n",
    "## Visualization of Regularized Batch Gradient Descent\n",
    "##X-axis: log(lambda_reg)\n",
    "##Y-axis: square_loss\n",
    "lambda_list1 = [-7, -5, -3,-2, -1, 0, 1, 2]\n",
    "def plot_regularized_batch(X_tr, y_tr, X_te, y_te, lambda_list):\n",
    "    train_loss_final_list = []\n",
    "    test_loss_final_list = []\n",
    "    for i in lambda_list:\n",
    "        train_theta, train_loss = regularized_grad_descent(X_tr, y_tr, alpha = 0.025, lambda_reg=10**(i))\n",
    "        theta = train_theta[-1]\n",
    "        train_loss_final_list.append(compute_square_loss(X_tr,y_tr,theta))\n",
    "        test_loss_final_list.append(compute_square_loss(X_te,y_te,theta))\n",
    "    \n",
    "    plt.plot(lambda_list, train_loss_final_list, label = 'Train')\n",
    "    plt.plot(lambda_list, test_loss_final_list, label = 'Test')\n",
    "    plt.xlabel = 'log(lambda_reg)'\n",
    "    plt.ylabel = 'Square Loss'\n",
    "    plt.legend()\n",
    "    return plt.show()"
   ]
  },
  {
   "cell_type": "code",
   "execution_count": null,
   "metadata": {},
   "outputs": [],
   "source": [
    "plot_regularized_batch(X_train, y_train, X_test, y_test, lambda_list1)"
   ]
  },
  {
   "cell_type": "code",
   "execution_count": null,
   "metadata": {
    "collapsed": true
   },
   "outputs": [],
   "source": [
    "lambda_list2 = [-3, -2.8, -2.6, -2.4, -2.2, -2, -1.8, -1.6, -1.4]"
   ]
  },
  {
   "cell_type": "code",
   "execution_count": null,
   "metadata": {},
   "outputs": [],
   "source": [
    "plot_regularized_batch(X_train, y_train, X_test, y_test, lambda_list2)"
   ]
  },
  {
   "cell_type": "code",
   "execution_count": null,
   "metadata": {
    "collapsed": true
   },
   "outputs": [],
   "source": [
    "lambda_list3 = [-2, -1.95, -1.9, -1.85, -1.8]"
   ]
  },
  {
   "cell_type": "code",
   "execution_count": null,
   "metadata": {},
   "outputs": [],
   "source": [
    "plot_regularized_batch(X_train, y_train, X_test, y_test, lambda_list3)"
   ]
  },
  {
   "cell_type": "code",
   "execution_count": 34,
   "metadata": {},
   "outputs": [],
   "source": [
    "def compute_sgd_loss(X, y, theta, lambda_reg):\n",
    "    #print(len(X), len(y), len(theta))\n",
    "    return 1/len(X)*((np.dot(theta,X)-y)**2 + lambda_reg*np.dot(theta,theta))\n",
    "def compute_sgd_gradient(X, y, theta, lambda_reg):\n",
    "    #return 2/len(X)*((np.dot(theta, X)-y)*X) + 2 * lambda_reg*theta\n",
    "    return (np.dot(theta, X)-y)*X + 2*lambda_reg*theta"
   ]
  },
  {
   "cell_type": "code",
   "execution_count": 29,
   "metadata": {},
   "outputs": [],
   "source": [
    "#############################################\n",
    "### Stochastic Gradient Descent\n",
    "def stochastic_grad_descent(X, y, alpha=0.1, lambda_reg=1, num_iter=1000):\n",
    "    \"\"\"\n",
    "    In this question you will implement stochastic gradient descent with a regularization term\n",
    "\n",
    "    Args:\n",
    "        X - the feature vector, 2D numpy array of size (num_instances, num_features)\n",
    "        y - the label vector, 1D numpy array of size (num_instances)\n",
    "        alpha - string or float. step size in gradient descent\n",
    "                NOTE: In SGD, it's not always a good idea to use a  fixed step size. Usually it's set to 1/sqrt(t) or 1/t\n",
    "                if alpha is a float, then the step size in every iteration is alpha.\n",
    "                if alpha == \"1/sqrt(t)\", alpha = 1/sqrt(t)\n",
    "                if alpha == \"1/t\", alpha = 1/t\n",
    "        lambda_reg - the regularization coefficient\n",
    "        num_iter - number of epochs (i.e number of times) to go through the whole training set\n",
    "\n",
    "    Returns:\n",
    "        theta_hist - the history of parameter vector, 3D numpy array of size (num_iter, num_instances, num_features)\n",
    "        loss hist - the history of regularized loss function vector, 2D numpy array of size(num_iter, num_instances)\n",
    "    \"\"\"\n",
    "    num_instances, num_features = X.shape[0], X.shape[1]\n",
    "    theta = np.ones(num_features) #Initialize theta\n",
    "\n",
    "\n",
    "    theta_hist = np.zeros((num_iter, num_instances, num_features))  #Initialize theta_hist\n",
    "    loss_hist = np.zeros((num_iter, num_instances)) #Initialize loss_hist\n",
    "    #TODO\n",
    "#     grad0 = compute_square_loss_gradient(X[row], y, theta_hist[i][row]) + 2*lambda_reg*theta_hist[i][row]\n",
    "    step_size = 1\n",
    "    \n",
    "    for i in range(num_iter):\n",
    "        change_idx = np.arange(num_instances)\n",
    "        np.random.shuffle(change_idx)\n",
    "        for row in change_idx:\n",
    "            theta_hist[i][row] = theta\n",
    "            loss_hist[i][row] = compute_sgd_loss(X[row], y[row], theta, lambda_reg)\n",
    "            grad = compute_sgd_gradient(X[row], y[row], theta, lambda_reg)\n",
    "            if isinstance(alpha, float):\n",
    "                theta = theta - alpha*grad\n",
    "            elif alpha == '1/sqrt(t)':\n",
    "                theta = theta - 1./np.sqrt(step_size)*grad\n",
    "                step_size += 1\n",
    "            else:\n",
    "                theta = theta - 1./step_size*grad\n",
    "                step_size += 1\n",
    "    return (theta_hist, loss_hist)"
   ]
  },
  {
   "cell_type": "code",
   "execution_count": null,
   "metadata": {
    "scrolled": true
   },
   "outputs": [],
   "source": [
    "ex1 = np.arange(10).reshape(2,5)\n",
    "ex1"
   ]
  },
  {
   "cell_type": "code",
   "execution_count": null,
   "metadata": {},
   "outputs": [],
   "source": [
    "ex2 = np.arange(11,13).reshape(2,1)\n",
    "ex2"
   ]
  },
  {
   "cell_type": "code",
   "execution_count": null,
   "metadata": {},
   "outputs": [],
   "source": [
    "c = np.hstack((ex1, ex2))\n",
    "c = np.random.permutation(c)\n",
    "c"
   ]
  },
  {
   "cell_type": "code",
   "execution_count": null,
   "metadata": {},
   "outputs": [],
   "source": [
    "a = c[:,:-1]\n",
    "c[:,-1].transpose()"
   ]
  },
  {
   "cell_type": "code",
   "execution_count": null,
   "metadata": {},
   "outputs": [],
   "source": [
    "qq1 = np.arange(1,4)\n",
    "qq2 = np.arange(4,7)\n",
    "np.dot(qq1, qq2)"
   ]
  },
  {
   "cell_type": "code",
   "execution_count": null,
   "metadata": {},
   "outputs": [],
   "source": [
    "a"
   ]
  },
  {
   "cell_type": "code",
   "execution_count": null,
   "metadata": {},
   "outputs": [],
   "source": [
    "X = np.arange(200).reshape(100, 2)\n",
    "y = np.arange(100)\n",
    "new_arr = np.hstack((X,y[:,np.newaxis]))\n",
    "new_arr = np.random.permutation(new_arr)\n",
    "X_new = new_arr[:,:-1]\n",
    "y_new =  new_arr[:,-1]\n",
    "print(len(X_new[0]))\n",
    "print(y_new[0])"
   ]
  },
  {
   "cell_type": "code",
   "execution_count": null,
   "metadata": {},
   "outputs": [],
   "source": [
    "def SGD_plot(X, y, alpha=0.1, lambda_reg=1, num_iter=1000):\n",
    "    theta_h, loss_h = stochastic_grad_descent(X_train, y_train, alpha, lambda_reg, num_iter)\n",
    "    plt.figure(figsize=(12,6))\n",
    "    plt.plot(np.log(loss_h))\n",
    "    if isinstance(alpha, float):\n",
    "        plt.title('Step size: %1.3f' %alpha)\n",
    "    else:\n",
    "        plt.title('Step size' + alpha)\n",
    "    plt.xlabel = \"Step Number\"\n",
    "    plt.ylabel = \"log(objective function value)\"\n",
    "    return plt.show()"
   ]
  },
  {
   "cell_type": "code",
   "execution_count": 19,
   "metadata": {},
   "outputs": [
    {
     "ename": "NameError",
     "evalue": "name 'SGD_plot' is not defined",
     "output_type": "error",
     "traceback": [
      "\u001b[0;31m---------------------------------------------------------------------------\u001b[0m",
      "\u001b[0;31mNameError\u001b[0m                                 Traceback (most recent call last)",
      "\u001b[0;32m<ipython-input-19-136c2610213a>\u001b[0m in \u001b[0;36m<module>\u001b[0;34m()\u001b[0m\n\u001b[1;32m      2\u001b[0m \u001b[0mstep_size_list\u001b[0m \u001b[0;34m=\u001b[0m \u001b[0;34m[\u001b[0m\u001b[0;36m0.05\u001b[0m\u001b[0;34m,\u001b[0m \u001b[0;36m0.005\u001b[0m\u001b[0;34m]\u001b[0m\u001b[0;34m\u001b[0m\u001b[0m\n\u001b[1;32m      3\u001b[0m \u001b[0;32mfor\u001b[0m \u001b[0mstep\u001b[0m \u001b[0;32min\u001b[0m \u001b[0mstep_size_list\u001b[0m\u001b[0;34m:\u001b[0m\u001b[0;34m\u001b[0m\u001b[0m\n\u001b[0;32m----> 4\u001b[0;31m     \u001b[0mSGD_plot\u001b[0m\u001b[0;34m(\u001b[0m\u001b[0mX_test\u001b[0m\u001b[0;34m,\u001b[0m \u001b[0my_test\u001b[0m\u001b[0;34m,\u001b[0m \u001b[0malpha\u001b[0m \u001b[0;34m=\u001b[0m \u001b[0mstep\u001b[0m\u001b[0;34m,\u001b[0m \u001b[0mlambda_reg\u001b[0m\u001b[0;34m=\u001b[0m\u001b[0mlambda_reg_cal\u001b[0m\u001b[0;34m,\u001b[0m \u001b[0mnum_iter\u001b[0m \u001b[0;34m=\u001b[0m \u001b[0;36m2000\u001b[0m\u001b[0;34m)\u001b[0m\u001b[0;34m\u001b[0m\u001b[0m\n\u001b[0m",
      "\u001b[0;31mNameError\u001b[0m: name 'SGD_plot' is not defined"
     ]
    }
   ],
   "source": [
    "lambda_reg_cal = pow(10,-1.9)\n",
    "step_size_list = [0.05, 0.005]\n",
    "for step in step_size_list:\n",
    "    SGD_plot(X_test, y_test, alpha = step, lambda_reg=lambda_reg_cal, num_iter = 2000)"
   ]
  },
  {
   "cell_type": "code",
   "execution_count": null,
   "metadata": {},
   "outputs": [],
   "source": [
    "np.log(1750)"
   ]
  },
  {
   "cell_type": "code",
   "execution_count": 36,
   "metadata": {},
   "outputs": [
    {
     "data": {
      "image/png": "[encoded data removed]",
      "text/plain": [
       "<matplotlib.figure.Figure at 0x1a2618a400>"
      ]
     },
     "metadata": {},
     "output_type": "display_data"
    }
   ],
   "source": [
    "theta_train, loss_train = stochastic_grad_descent(X_train, y_train, alpha=0.005, lambda_reg=lambda_reg_cal, num_iter = 1000)\n",
    "#theta_test, loss_test = stochastic_grad_descent(X_test, y_test, alpha=0.05, lambda_reg=lambda_reg_cal)\n",
    "num_iteration = 1000\n",
    "num_ins = X_test.shape[0]\n",
    "loss_test = np.zeros((num_iteration, num_ins))\n",
    "for idx in range(num_iteration):\n",
    "    for m in range(num_ins):\n",
    "        loss_test[idx] = loss_test[idx] + compute_sgd_loss(X_test[m], y_test[m], theta_train[idx][m], lambda_reg=lambda_reg_cal)\n",
    "plt.figure(figsize=(12,8))\n",
    "plt.plot(loss_test)\n",
    "#plt.plot(loss_test, c = 'r')\n",
    "#plt.legend()\n",
    "plt.show()"
   ]
  },
  {
   "cell_type": "code",
   "execution_count": null,
   "metadata": {},
   "outputs": [],
   "source": [
    "a = np.arange(100)\n",
    "np.random.shuffle(a)\n",
    "a"
   ]
  },
  {
   "cell_type": "code",
   "execution_count": null,
   "metadata": {},
   "outputs": [],
   "source": [
    "################################################\n",
    "### Visualization that compares the convergence speed of batch\n",
    "###and stochastic gradient descent for various approaches to step_size\n",
    "##X-axis: Step number (for gradient descent) or Epoch (for SGD)\n",
    "##Y-axis: log(objective_function_value) and/or objective_function_value\n",
    "lambda_reg_cal = pow(10,-1.9)\n",
    "step_size_list = [0.05, 0.005]\n",
    "for step in step_size_list:\n",
    "    theta_h, loss_h = stochastic_grad_descent(X_train, y_train, alpha=step, lambda_reg = lambda_reg_cal)\n",
    "    plt.plot(loss_h)\n",
    "    plt.show()"
   ]
  },
  {
   "cell_type": "code",
   "execution_count": null,
   "metadata": {
    "collapsed": true
   },
   "outputs": [],
   "source": [
    "def main():\n",
    "    #Loading the dataset\n",
    "    print('loading the dataset')\n",
    "\n",
    "    df = pd.read_csv('data.csv', delimiter=',')\n",
    "    X = df.values[:,:-1]\n",
    "    y = df.values[:,-1]\n",
    "\n",
    "    print('Split into Train and Test')\n",
    "    X_train, X_test, y_train, y_test = train_test_split(X, y, test_size =100, random_state=10)\n",
    "\n",
    "    print(\"Scaling all to [0, 1]\")\n",
    "    X_train, X_test = feature_normalization(X_train, X_test)\n",
    "    X_train = np.hstack((X_train, np.ones((X_train.shape[0], 1))))  # Add bias term\n",
    "    X_test = np.hstack((X_test, np.ones((X_test.shape[0], 1)))) # Add bias term\n",
    "\n",
    "    # TODO\n",
    "\n",
    "if __name__ == \"__main__\":\n",
    "    main()\n"
   ]
  }
 ],
 "metadata": {
  "kernelspec": {
   "display_name": "Python 3",
   "language": "python",
   "name": "python3"
  },
  "language_info": {
   "codemirror_mode": {
    "name": "ipython",
    "version": 3
   },
   "file_extension": ".py",
   "mimetype": "text/x-python",
   "name": "python",
   "nbconvert_exporter": "python",
   "pygments_lexer": "ipython3",
   "version": "3.6.2"
  }
 },
 "nbformat": 4,
 "nbformat_minor": 2
}
